{
 "cells": [
  {
   "cell_type": "code",
   "execution_count": 21,
   "id": "initial_id",
   "metadata": {
    "collapsed": true,
    "ExecuteTime": {
     "end_time": "2025-05-28T11:22:11.596891Z",
     "start_time": "2025-05-28T11:22:11.589517Z"
    }
   },
   "outputs": [],
   "source": [
    "import numpy as np\n",
    "import pandas as pd\n",
    "import os"
   ]
  },
  {
   "cell_type": "markdown",
   "source": [
    "READ CSV"
   ],
   "metadata": {
    "collapsed": false
   },
   "id": "118ababe14966f7f"
  },
  {
   "cell_type": "code",
   "outputs": [
    {
     "data": {
      "text/plain": "(265, 8)"
     },
     "execution_count": 22,
     "metadata": {},
     "output_type": "execute_result"
    }
   ],
   "source": [
    "file_path = os.path.join(\"..\", \"data\", \"processed\", \"output.csv\")  \n",
    "python_df = pd.read_csv(file_path,  encoding=\"utf-8\")\n",
    "python_df.replace(\"[ ]\", np.nan, inplace=True)\n",
    "python_df.shape"
   ],
   "metadata": {
    "collapsed": false,
    "ExecuteTime": {
     "end_time": "2025-05-28T11:22:13.278487Z",
     "start_time": "2025-05-28T11:22:13.250775Z"
    }
   },
   "id": "949f9324a0008b5b",
   "execution_count": 22
  },
  {
   "cell_type": "code",
   "outputs": [
    {
     "data": {
      "text/plain": "             date                                              title  \\\n0   9 травня 2025  Senior Back End-oriented Full-Stack Developer ...   \n1  23 травня 2025     TypeScript/Python Developer with AI Experience   \n2  23 травня 2025  Senior Python Developer in Virtual Services Te...   \n3  21 травня 2025                              Python ML/AI Engineer   \n4  14 травня 2025                     Senior Python+NodeJS developer   \n5   7 травня 2025                             Senior Python Engineer   \n6   9 травня 2025  Senior AI/LLM Python Engineer (with experience...   \n7  14 травня 2025          Senior Backend Engineer (Data Processing)   \n8  19 травня 2025  Python Full Stack Developer (Crypto Data Visua...   \n9  23 травня 2025           Junior Software Engineer (Python) (#990)   \n\n                       company                                      location  \\\n0                      Adaptiq                               Київ, віддалено   \n1                        COXIT                 Львів, за кордоном, віддалено   \n2                     ZONE3000                                     віддалено   \n3                  Itransition                               Київ, віддалено   \n4                  White Label                                     віддалено   \n5              Akvelon Ukraine                     Гдиня (Польща), віддалено   \n6                     Agiliway  Львів, Івано-Франківськ, Чернівці, віддалено   \n7                        Shelf             Poland (remote), Вроцлав (Польща)   \n8  Codebridge Technology, Inc.                               Київ, віддалено   \n9                     ZONE3000                                     віддалено   \n\n       salary experience                                               link  \\\n0         NaN         []  https://jobs.dou.ua/companies/adaptiq/vacancie...   \n1  $4000–6000      ['3']  https://jobs.dou.ua/companies/coxit/vacancies/...   \n2         NaN      ['4']  https://jobs.dou.ua/companies/zone3000/vacanci...   \n3         NaN         []  https://jobs.dou.ua/companies/itransition/vaca...   \n4         NaN         []  https://jobs.dou.ua/companies/ffflabel/vacanci...   \n5         NaN         []  https://jobs.dou.ua/companies/akvelon-ukraine/...   \n6         NaN         []  https://jobs.dou.ua/companies/agiliway/vacanci...   \n7         NaN         []  https://jobs.dou.ua/companies/shelf-io/vacanci...   \n8         NaN      ['3']  https://jobs.dou.ua/companies/codebridge-techn...   \n9         NaN      ['1']  https://jobs.dou.ua/companies/zone3000/vacanci...   \n\n                                        technologies  \n0                       teamwork, documentation, gcp  \n1  openai, scratch, independence, responsibility,...  \n2  unity, pytest, communication skills, programmi...  \n3                                             openai  \n4                                        reliability  \n5         unity, bash, jenkins, ansible, programming  \n6                                        reliability  \n7  unity, openai, initiative, documentation, reli...  \n8                        pandas, numpy, productivity  \n9      unity, reliability, communication skills, gcp  ",
      "text/html": "<div>\n<style scoped>\n    .dataframe tbody tr th:only-of-type {\n        vertical-align: middle;\n    }\n\n    .dataframe tbody tr th {\n        vertical-align: top;\n    }\n\n    .dataframe thead th {\n        text-align: right;\n    }\n</style>\n<table border=\"1\" class=\"dataframe\">\n  <thead>\n    <tr style=\"text-align: right;\">\n      <th></th>\n      <th>date</th>\n      <th>title</th>\n      <th>company</th>\n      <th>location</th>\n      <th>salary</th>\n      <th>experience</th>\n      <th>link</th>\n      <th>technologies</th>\n    </tr>\n  </thead>\n  <tbody>\n    <tr>\n      <th>0</th>\n      <td>9 травня 2025</td>\n      <td>Senior Back End-oriented Full-Stack Developer ...</td>\n      <td>Adaptiq</td>\n      <td>Київ, віддалено</td>\n      <td>NaN</td>\n      <td>[]</td>\n      <td>https://jobs.dou.ua/companies/adaptiq/vacancie...</td>\n      <td>teamwork, documentation, gcp</td>\n    </tr>\n    <tr>\n      <th>1</th>\n      <td>23 травня 2025</td>\n      <td>TypeScript/Python Developer with AI Experience</td>\n      <td>COXIT</td>\n      <td>Львів, за кордоном, віддалено</td>\n      <td>$4000–6000</td>\n      <td>['3']</td>\n      <td>https://jobs.dou.ua/companies/coxit/vacancies/...</td>\n      <td>openai, scratch, independence, responsibility,...</td>\n    </tr>\n    <tr>\n      <th>2</th>\n      <td>23 травня 2025</td>\n      <td>Senior Python Developer in Virtual Services Te...</td>\n      <td>ZONE3000</td>\n      <td>віддалено</td>\n      <td>NaN</td>\n      <td>['4']</td>\n      <td>https://jobs.dou.ua/companies/zone3000/vacanci...</td>\n      <td>unity, pytest, communication skills, programmi...</td>\n    </tr>\n    <tr>\n      <th>3</th>\n      <td>21 травня 2025</td>\n      <td>Python ML/AI Engineer</td>\n      <td>Itransition</td>\n      <td>Київ, віддалено</td>\n      <td>NaN</td>\n      <td>[]</td>\n      <td>https://jobs.dou.ua/companies/itransition/vaca...</td>\n      <td>openai</td>\n    </tr>\n    <tr>\n      <th>4</th>\n      <td>14 травня 2025</td>\n      <td>Senior Python+NodeJS developer</td>\n      <td>White Label</td>\n      <td>віддалено</td>\n      <td>NaN</td>\n      <td>[]</td>\n      <td>https://jobs.dou.ua/companies/ffflabel/vacanci...</td>\n      <td>reliability</td>\n    </tr>\n    <tr>\n      <th>5</th>\n      <td>7 травня 2025</td>\n      <td>Senior Python Engineer</td>\n      <td>Akvelon Ukraine</td>\n      <td>Гдиня (Польща), віддалено</td>\n      <td>NaN</td>\n      <td>[]</td>\n      <td>https://jobs.dou.ua/companies/akvelon-ukraine/...</td>\n      <td>unity, bash, jenkins, ansible, programming</td>\n    </tr>\n    <tr>\n      <th>6</th>\n      <td>9 травня 2025</td>\n      <td>Senior AI/LLM Python Engineer (with experience...</td>\n      <td>Agiliway</td>\n      <td>Львів, Івано-Франківськ, Чернівці, віддалено</td>\n      <td>NaN</td>\n      <td>[]</td>\n      <td>https://jobs.dou.ua/companies/agiliway/vacanci...</td>\n      <td>reliability</td>\n    </tr>\n    <tr>\n      <th>7</th>\n      <td>14 травня 2025</td>\n      <td>Senior Backend Engineer (Data Processing)</td>\n      <td>Shelf</td>\n      <td>Poland (remote), Вроцлав (Польща)</td>\n      <td>NaN</td>\n      <td>[]</td>\n      <td>https://jobs.dou.ua/companies/shelf-io/vacanci...</td>\n      <td>unity, openai, initiative, documentation, reli...</td>\n    </tr>\n    <tr>\n      <th>8</th>\n      <td>19 травня 2025</td>\n      <td>Python Full Stack Developer (Crypto Data Visua...</td>\n      <td>Codebridge Technology, Inc.</td>\n      <td>Київ, віддалено</td>\n      <td>NaN</td>\n      <td>['3']</td>\n      <td>https://jobs.dou.ua/companies/codebridge-techn...</td>\n      <td>pandas, numpy, productivity</td>\n    </tr>\n    <tr>\n      <th>9</th>\n      <td>23 травня 2025</td>\n      <td>Junior Software Engineer (Python) (#990)</td>\n      <td>ZONE3000</td>\n      <td>віддалено</td>\n      <td>NaN</td>\n      <td>['1']</td>\n      <td>https://jobs.dou.ua/companies/zone3000/vacanci...</td>\n      <td>unity, reliability, communication skills, gcp</td>\n    </tr>\n  </tbody>\n</table>\n</div>"
     },
     "execution_count": 23,
     "metadata": {},
     "output_type": "execute_result"
    }
   ],
   "source": [
    "python_df.head(10)"
   ],
   "metadata": {
    "collapsed": false,
    "ExecuteTime": {
     "end_time": "2025-05-28T11:22:14.187800Z",
     "start_time": "2025-05-28T11:22:14.145788Z"
    }
   },
   "id": "346e3c4c17dea0c1",
   "execution_count": 23
  },
  {
   "cell_type": "code",
   "outputs": [
    {
     "data": {
      "text/plain": "                            date  \\\n260  Вакансія від 20 травня 2025   \n261  Вакансія від 26 травня 2025   \n262  Вакансія від 26 травня 2025   \n263  Вакансія від 23 травня 2025   \n264   Вакансія від 9 травня 2025   \n\n                                                 title  \\\n260                             TraineePythonDeveloper   \n261                          PythonDeveloper (Backend)   \n262  Викладач програмування у дитячу школу (Python,...   \n263                       PythonBack-end Web Developer   \n264                              JuniorPythonDeveloper   \n\n                                               company  \\\n260                                        Jewios Tech   \n261                                      Asap Demo LLC   \n262  Logika, всеукраїнська школа програмування для ...   \n263                                         PBP Agency   \n264                                          Julion IT   \n\n                     location               salary experience  \\\n260                      Київ           28 000 грн         []   \n261                      Київ                  NaN      ['1']   \n262                   Коломия   8 000 – 17 000 грн         []   \n263        Дистанційна робота                  NaN      ['5']   \n264  Київ, вулиця Ділова, 9А.  30 000 – 40 000 грн         []   \n\n                                  link  \\\n260  https://www.work.ua/jobs/6547663/   \n261  https://www.work.ua/jobs/6628531/   \n262  https://www.work.ua/jobs/5623410/   \n263  https://www.work.ua/jobs/6676327/   \n264  https://www.work.ua/jobs/6620947/   \n\n                                          technologies  \n260                                                NaN  \n261  Користувач ОС Linux, SQL, JavaScript, Python, ...  \n262  Python, Активність, Програмування, Креативніст...  \n263                Комунікабельність, Відповідальність  \n264                  SQL, Git, Python, Django, FastAPI  ",
      "text/html": "<div>\n<style scoped>\n    .dataframe tbody tr th:only-of-type {\n        vertical-align: middle;\n    }\n\n    .dataframe tbody tr th {\n        vertical-align: top;\n    }\n\n    .dataframe thead th {\n        text-align: right;\n    }\n</style>\n<table border=\"1\" class=\"dataframe\">\n  <thead>\n    <tr style=\"text-align: right;\">\n      <th></th>\n      <th>date</th>\n      <th>title</th>\n      <th>company</th>\n      <th>location</th>\n      <th>salary</th>\n      <th>experience</th>\n      <th>link</th>\n      <th>technologies</th>\n    </tr>\n  </thead>\n  <tbody>\n    <tr>\n      <th>260</th>\n      <td>Вакансія від 20 травня 2025</td>\n      <td>TraineePythonDeveloper</td>\n      <td>Jewios Tech</td>\n      <td>Київ</td>\n      <td>28 000 грн</td>\n      <td>[]</td>\n      <td>https://www.work.ua/jobs/6547663/</td>\n      <td>NaN</td>\n    </tr>\n    <tr>\n      <th>261</th>\n      <td>Вакансія від 26 травня 2025</td>\n      <td>PythonDeveloper (Backend)</td>\n      <td>Asap Demo LLC</td>\n      <td>Київ</td>\n      <td>NaN</td>\n      <td>['1']</td>\n      <td>https://www.work.ua/jobs/6628531/</td>\n      <td>Користувач ОС Linux, SQL, JavaScript, Python, ...</td>\n    </tr>\n    <tr>\n      <th>262</th>\n      <td>Вакансія від 26 травня 2025</td>\n      <td>Викладач програмування у дитячу школу (Python,...</td>\n      <td>Logika, всеукраїнська школа програмування для ...</td>\n      <td>Коломия</td>\n      <td>8 000 – 17 000 грн</td>\n      <td>[]</td>\n      <td>https://www.work.ua/jobs/5623410/</td>\n      <td>Python, Активність, Програмування, Креативніст...</td>\n    </tr>\n    <tr>\n      <th>263</th>\n      <td>Вакансія від 23 травня 2025</td>\n      <td>PythonBack-end Web Developer</td>\n      <td>PBP Agency</td>\n      <td>Дистанційна робота</td>\n      <td>NaN</td>\n      <td>['5']</td>\n      <td>https://www.work.ua/jobs/6676327/</td>\n      <td>Комунікабельність, Відповідальність</td>\n    </tr>\n    <tr>\n      <th>264</th>\n      <td>Вакансія від 9 травня 2025</td>\n      <td>JuniorPythonDeveloper</td>\n      <td>Julion IT</td>\n      <td>Київ, вулиця Ділова, 9А.</td>\n      <td>30 000 – 40 000 грн</td>\n      <td>[]</td>\n      <td>https://www.work.ua/jobs/6620947/</td>\n      <td>SQL, Git, Python, Django, FastAPI</td>\n    </tr>\n  </tbody>\n</table>\n</div>"
     },
     "execution_count": 24,
     "metadata": {},
     "output_type": "execute_result"
    }
   ],
   "source": [
    "python_df.tail()"
   ],
   "metadata": {
    "collapsed": false,
    "ExecuteTime": {
     "end_time": "2025-05-28T11:22:19.681581Z",
     "start_time": "2025-05-28T11:22:19.655637Z"
    }
   },
   "id": "1be8fdfcbedf8e6b",
   "execution_count": 24
  },
  {
   "cell_type": "code",
   "outputs": [
    {
     "data": {
      "text/plain": "date            object\ntitle           object\ncompany         object\nlocation        object\nsalary          object\nexperience      object\nlink            object\ntechnologies    object\ndtype: object"
     },
     "execution_count": 25,
     "metadata": {},
     "output_type": "execute_result"
    }
   ],
   "source": [
    "python_df.dtypes"
   ],
   "metadata": {
    "collapsed": false,
    "ExecuteTime": {
     "end_time": "2025-05-28T11:22:24.137226Z",
     "start_time": "2025-05-28T11:22:24.110308Z"
    }
   },
   "id": "9593051036e5d269",
   "execution_count": 25
  },
  {
   "cell_type": "markdown",
   "source": [],
   "metadata": {
    "collapsed": false
   },
   "id": "562608b8cfa787be"
  },
  {
   "cell_type": "markdown",
   "source": [
    "Converting a date object to a daytime object\n"
   ],
   "metadata": {
    "collapsed": false
   },
   "id": "917c338815f1d6d0"
  },
  {
   "cell_type": "code",
   "outputs": [],
   "source": [
    "python_df[\"date\"] = python_df[\"date\"].str.replace(\"Вакансія від \", \" \", regex=False)\n",
    "python_df[\"date\"] = python_df[\"date\"].str.strip()"
   ],
   "metadata": {
    "collapsed": false,
    "ExecuteTime": {
     "end_time": "2025-05-28T11:22:27.940051Z",
     "start_time": "2025-05-28T11:22:27.912095Z"
    }
   },
   "id": "e30f96f5a3b1c492",
   "execution_count": 26
  },
  {
   "cell_type": "code",
   "outputs": [
    {
     "data": {
      "text/plain": "               date                                              title  \\\n0     9 травня 2025  Senior Back End-oriented Full-Stack Developer ...   \n1    23 травня 2025     TypeScript/Python Developer with AI Experience   \n2    23 травня 2025  Senior Python Developer in Virtual Services Te...   \n3    21 травня 2025                              Python ML/AI Engineer   \n4    14 травня 2025                     Senior Python+NodeJS developer   \n..              ...                                                ...   \n260  20 травня 2025                             TraineePythonDeveloper   \n261  26 травня 2025                          PythonDeveloper (Backend)   \n262  26 травня 2025  Викладач програмування у дитячу школу (Python,...   \n263  23 травня 2025                       PythonBack-end Web Developer   \n264   9 травня 2025                              JuniorPythonDeveloper   \n\n                                               company  \\\n0                                              Adaptiq   \n1                                                COXIT   \n2                                             ZONE3000   \n3                                          Itransition   \n4                                          White Label   \n..                                                 ...   \n260                                        Jewios Tech   \n261                                      Asap Demo LLC   \n262  Logika, всеукраїнська школа програмування для ...   \n263                                         PBP Agency   \n264                                          Julion IT   \n\n                          location               salary experience  \\\n0                  Київ, віддалено                  NaN         []   \n1    Львів, за кордоном, віддалено           $4000–6000      ['3']   \n2                        віддалено                  NaN      ['4']   \n3                  Київ, віддалено                  NaN         []   \n4                        віддалено                  NaN         []   \n..                             ...                  ...        ...   \n260                           Київ           28 000 грн         []   \n261                           Київ                  NaN      ['1']   \n262                        Коломия   8 000 – 17 000 грн         []   \n263             Дистанційна робота                  NaN      ['5']   \n264       Київ, вулиця Ділова, 9А.  30 000 – 40 000 грн         []   \n\n                                                  link  \\\n0    https://jobs.dou.ua/companies/adaptiq/vacancie...   \n1    https://jobs.dou.ua/companies/coxit/vacancies/...   \n2    https://jobs.dou.ua/companies/zone3000/vacanci...   \n3    https://jobs.dou.ua/companies/itransition/vaca...   \n4    https://jobs.dou.ua/companies/ffflabel/vacanci...   \n..                                                 ...   \n260                  https://www.work.ua/jobs/6547663/   \n261                  https://www.work.ua/jobs/6628531/   \n262                  https://www.work.ua/jobs/5623410/   \n263                  https://www.work.ua/jobs/6676327/   \n264                  https://www.work.ua/jobs/6620947/   \n\n                                          technologies  \n0                         teamwork, documentation, gcp  \n1    openai, scratch, independence, responsibility,...  \n2    unity, pytest, communication skills, programmi...  \n3                                               openai  \n4                                          reliability  \n..                                                 ...  \n260                                                NaN  \n261  Користувач ОС Linux, SQL, JavaScript, Python, ...  \n262  Python, Активність, Програмування, Креативніст...  \n263                Комунікабельність, Відповідальність  \n264                  SQL, Git, Python, Django, FastAPI  \n\n[265 rows x 8 columns]",
      "text/html": "<div>\n<style scoped>\n    .dataframe tbody tr th:only-of-type {\n        vertical-align: middle;\n    }\n\n    .dataframe tbody tr th {\n        vertical-align: top;\n    }\n\n    .dataframe thead th {\n        text-align: right;\n    }\n</style>\n<table border=\"1\" class=\"dataframe\">\n  <thead>\n    <tr style=\"text-align: right;\">\n      <th></th>\n      <th>date</th>\n      <th>title</th>\n      <th>company</th>\n      <th>location</th>\n      <th>salary</th>\n      <th>experience</th>\n      <th>link</th>\n      <th>technologies</th>\n    </tr>\n  </thead>\n  <tbody>\n    <tr>\n      <th>0</th>\n      <td>9 травня 2025</td>\n      <td>Senior Back End-oriented Full-Stack Developer ...</td>\n      <td>Adaptiq</td>\n      <td>Київ, віддалено</td>\n      <td>NaN</td>\n      <td>[]</td>\n      <td>https://jobs.dou.ua/companies/adaptiq/vacancie...</td>\n      <td>teamwork, documentation, gcp</td>\n    </tr>\n    <tr>\n      <th>1</th>\n      <td>23 травня 2025</td>\n      <td>TypeScript/Python Developer with AI Experience</td>\n      <td>COXIT</td>\n      <td>Львів, за кордоном, віддалено</td>\n      <td>$4000–6000</td>\n      <td>['3']</td>\n      <td>https://jobs.dou.ua/companies/coxit/vacancies/...</td>\n      <td>openai, scratch, independence, responsibility,...</td>\n    </tr>\n    <tr>\n      <th>2</th>\n      <td>23 травня 2025</td>\n      <td>Senior Python Developer in Virtual Services Te...</td>\n      <td>ZONE3000</td>\n      <td>віддалено</td>\n      <td>NaN</td>\n      <td>['4']</td>\n      <td>https://jobs.dou.ua/companies/zone3000/vacanci...</td>\n      <td>unity, pytest, communication skills, programmi...</td>\n    </tr>\n    <tr>\n      <th>3</th>\n      <td>21 травня 2025</td>\n      <td>Python ML/AI Engineer</td>\n      <td>Itransition</td>\n      <td>Київ, віддалено</td>\n      <td>NaN</td>\n      <td>[]</td>\n      <td>https://jobs.dou.ua/companies/itransition/vaca...</td>\n      <td>openai</td>\n    </tr>\n    <tr>\n      <th>4</th>\n      <td>14 травня 2025</td>\n      <td>Senior Python+NodeJS developer</td>\n      <td>White Label</td>\n      <td>віддалено</td>\n      <td>NaN</td>\n      <td>[]</td>\n      <td>https://jobs.dou.ua/companies/ffflabel/vacanci...</td>\n      <td>reliability</td>\n    </tr>\n    <tr>\n      <th>...</th>\n      <td>...</td>\n      <td>...</td>\n      <td>...</td>\n      <td>...</td>\n      <td>...</td>\n      <td>...</td>\n      <td>...</td>\n      <td>...</td>\n    </tr>\n    <tr>\n      <th>260</th>\n      <td>20 травня 2025</td>\n      <td>TraineePythonDeveloper</td>\n      <td>Jewios Tech</td>\n      <td>Київ</td>\n      <td>28 000 грн</td>\n      <td>[]</td>\n      <td>https://www.work.ua/jobs/6547663/</td>\n      <td>NaN</td>\n    </tr>\n    <tr>\n      <th>261</th>\n      <td>26 травня 2025</td>\n      <td>PythonDeveloper (Backend)</td>\n      <td>Asap Demo LLC</td>\n      <td>Київ</td>\n      <td>NaN</td>\n      <td>['1']</td>\n      <td>https://www.work.ua/jobs/6628531/</td>\n      <td>Користувач ОС Linux, SQL, JavaScript, Python, ...</td>\n    </tr>\n    <tr>\n      <th>262</th>\n      <td>26 травня 2025</td>\n      <td>Викладач програмування у дитячу школу (Python,...</td>\n      <td>Logika, всеукраїнська школа програмування для ...</td>\n      <td>Коломия</td>\n      <td>8 000 – 17 000 грн</td>\n      <td>[]</td>\n      <td>https://www.work.ua/jobs/5623410/</td>\n      <td>Python, Активність, Програмування, Креативніст...</td>\n    </tr>\n    <tr>\n      <th>263</th>\n      <td>23 травня 2025</td>\n      <td>PythonBack-end Web Developer</td>\n      <td>PBP Agency</td>\n      <td>Дистанційна робота</td>\n      <td>NaN</td>\n      <td>['5']</td>\n      <td>https://www.work.ua/jobs/6676327/</td>\n      <td>Комунікабельність, Відповідальність</td>\n    </tr>\n    <tr>\n      <th>264</th>\n      <td>9 травня 2025</td>\n      <td>JuniorPythonDeveloper</td>\n      <td>Julion IT</td>\n      <td>Київ, вулиця Ділова, 9А.</td>\n      <td>30 000 – 40 000 грн</td>\n      <td>[]</td>\n      <td>https://www.work.ua/jobs/6620947/</td>\n      <td>SQL, Git, Python, Django, FastAPI</td>\n    </tr>\n  </tbody>\n</table>\n<p>265 rows × 8 columns</p>\n</div>"
     },
     "execution_count": 27,
     "metadata": {},
     "output_type": "execute_result"
    }
   ],
   "source": [
    "python_df"
   ],
   "metadata": {
    "collapsed": false,
    "ExecuteTime": {
     "end_time": "2025-05-28T11:22:35.218180Z",
     "start_time": "2025-05-28T11:22:35.158874Z"
    }
   },
   "id": "2dca865ab8e1a420",
   "execution_count": 27
  },
  {
   "cell_type": "markdown",
   "source": [
    "Breaking it down into components"
   ],
   "metadata": {
    "collapsed": false
   },
   "id": "72174f2cca058e5e"
  },
  {
   "cell_type": "code",
   "outputs": [
    {
     "data": {
      "text/plain": "           date                                              title  \\\n0     9-05-2025  Senior Back End-oriented Full-Stack Developer ...   \n1    23-05-2025     TypeScript/Python Developer with AI Experience   \n2    23-05-2025  Senior Python Developer in Virtual Services Te...   \n3    21-05-2025                              Python ML/AI Engineer   \n4    14-05-2025                     Senior Python+NodeJS developer   \n..          ...                                                ...   \n260  20-05-2025                             TraineePythonDeveloper   \n261  26-05-2025                          PythonDeveloper (Backend)   \n262  26-05-2025  Викладач програмування у дитячу школу (Python,...   \n263  23-05-2025                       PythonBack-end Web Developer   \n264   9-05-2025                              JuniorPythonDeveloper   \n\n                                               company  \\\n0                                              Adaptiq   \n1                                                COXIT   \n2                                             ZONE3000   \n3                                          Itransition   \n4                                          White Label   \n..                                                 ...   \n260                                        Jewios Tech   \n261                                      Asap Demo LLC   \n262  Logika, всеукраїнська школа програмування для ...   \n263                                         PBP Agency   \n264                                          Julion IT   \n\n                          location               salary experience  \\\n0                  Київ, віддалено                  NaN         []   \n1    Львів, за кордоном, віддалено           $4000–6000      ['3']   \n2                        віддалено                  NaN      ['4']   \n3                  Київ, віддалено                  NaN         []   \n4                        віддалено                  NaN         []   \n..                             ...                  ...        ...   \n260                           Київ           28 000 грн         []   \n261                           Київ                  NaN      ['1']   \n262                        Коломия   8 000 – 17 000 грн         []   \n263             Дистанційна робота                  NaN      ['5']   \n264       Київ, вулиця Ділова, 9А.  30 000 – 40 000 грн         []   \n\n                                                  link  \\\n0    https://jobs.dou.ua/companies/adaptiq/vacancie...   \n1    https://jobs.dou.ua/companies/coxit/vacancies/...   \n2    https://jobs.dou.ua/companies/zone3000/vacanci...   \n3    https://jobs.dou.ua/companies/itransition/vaca...   \n4    https://jobs.dou.ua/companies/ffflabel/vacanci...   \n..                                                 ...   \n260                  https://www.work.ua/jobs/6547663/   \n261                  https://www.work.ua/jobs/6628531/   \n262                  https://www.work.ua/jobs/5623410/   \n263                  https://www.work.ua/jobs/6676327/   \n264                  https://www.work.ua/jobs/6620947/   \n\n                                          technologies day month  year  \n0                         teamwork, documentation, gcp   9    05  2025  \n1    openai, scratch, independence, responsibility,...  23    05  2025  \n2    unity, pytest, communication skills, programmi...  23    05  2025  \n3                                               openai  21    05  2025  \n4                                          reliability  14    05  2025  \n..                                                 ...  ..   ...   ...  \n260                                                NaN  20    05  2025  \n261  Користувач ОС Linux, SQL, JavaScript, Python, ...  26    05  2025  \n262  Python, Активність, Програмування, Креативніст...  26    05  2025  \n263                Комунікабельність, Відповідальність  23    05  2025  \n264                  SQL, Git, Python, Django, FastAPI   9    05  2025  \n\n[265 rows x 11 columns]",
      "text/html": "<div>\n<style scoped>\n    .dataframe tbody tr th:only-of-type {\n        vertical-align: middle;\n    }\n\n    .dataframe tbody tr th {\n        vertical-align: top;\n    }\n\n    .dataframe thead th {\n        text-align: right;\n    }\n</style>\n<table border=\"1\" class=\"dataframe\">\n  <thead>\n    <tr style=\"text-align: right;\">\n      <th></th>\n      <th>date</th>\n      <th>title</th>\n      <th>company</th>\n      <th>location</th>\n      <th>salary</th>\n      <th>experience</th>\n      <th>link</th>\n      <th>technologies</th>\n      <th>day</th>\n      <th>month</th>\n      <th>year</th>\n    </tr>\n  </thead>\n  <tbody>\n    <tr>\n      <th>0</th>\n      <td>9-05-2025</td>\n      <td>Senior Back End-oriented Full-Stack Developer ...</td>\n      <td>Adaptiq</td>\n      <td>Київ, віддалено</td>\n      <td>NaN</td>\n      <td>[]</td>\n      <td>https://jobs.dou.ua/companies/adaptiq/vacancie...</td>\n      <td>teamwork, documentation, gcp</td>\n      <td>9</td>\n      <td>05</td>\n      <td>2025</td>\n    </tr>\n    <tr>\n      <th>1</th>\n      <td>23-05-2025</td>\n      <td>TypeScript/Python Developer with AI Experience</td>\n      <td>COXIT</td>\n      <td>Львів, за кордоном, віддалено</td>\n      <td>$4000–6000</td>\n      <td>['3']</td>\n      <td>https://jobs.dou.ua/companies/coxit/vacancies/...</td>\n      <td>openai, scratch, independence, responsibility,...</td>\n      <td>23</td>\n      <td>05</td>\n      <td>2025</td>\n    </tr>\n    <tr>\n      <th>2</th>\n      <td>23-05-2025</td>\n      <td>Senior Python Developer in Virtual Services Te...</td>\n      <td>ZONE3000</td>\n      <td>віддалено</td>\n      <td>NaN</td>\n      <td>['4']</td>\n      <td>https://jobs.dou.ua/companies/zone3000/vacanci...</td>\n      <td>unity, pytest, communication skills, programmi...</td>\n      <td>23</td>\n      <td>05</td>\n      <td>2025</td>\n    </tr>\n    <tr>\n      <th>3</th>\n      <td>21-05-2025</td>\n      <td>Python ML/AI Engineer</td>\n      <td>Itransition</td>\n      <td>Київ, віддалено</td>\n      <td>NaN</td>\n      <td>[]</td>\n      <td>https://jobs.dou.ua/companies/itransition/vaca...</td>\n      <td>openai</td>\n      <td>21</td>\n      <td>05</td>\n      <td>2025</td>\n    </tr>\n    <tr>\n      <th>4</th>\n      <td>14-05-2025</td>\n      <td>Senior Python+NodeJS developer</td>\n      <td>White Label</td>\n      <td>віддалено</td>\n      <td>NaN</td>\n      <td>[]</td>\n      <td>https://jobs.dou.ua/companies/ffflabel/vacanci...</td>\n      <td>reliability</td>\n      <td>14</td>\n      <td>05</td>\n      <td>2025</td>\n    </tr>\n    <tr>\n      <th>...</th>\n      <td>...</td>\n      <td>...</td>\n      <td>...</td>\n      <td>...</td>\n      <td>...</td>\n      <td>...</td>\n      <td>...</td>\n      <td>...</td>\n      <td>...</td>\n      <td>...</td>\n      <td>...</td>\n    </tr>\n    <tr>\n      <th>260</th>\n      <td>20-05-2025</td>\n      <td>TraineePythonDeveloper</td>\n      <td>Jewios Tech</td>\n      <td>Київ</td>\n      <td>28 000 грн</td>\n      <td>[]</td>\n      <td>https://www.work.ua/jobs/6547663/</td>\n      <td>NaN</td>\n      <td>20</td>\n      <td>05</td>\n      <td>2025</td>\n    </tr>\n    <tr>\n      <th>261</th>\n      <td>26-05-2025</td>\n      <td>PythonDeveloper (Backend)</td>\n      <td>Asap Demo LLC</td>\n      <td>Київ</td>\n      <td>NaN</td>\n      <td>['1']</td>\n      <td>https://www.work.ua/jobs/6628531/</td>\n      <td>Користувач ОС Linux, SQL, JavaScript, Python, ...</td>\n      <td>26</td>\n      <td>05</td>\n      <td>2025</td>\n    </tr>\n    <tr>\n      <th>262</th>\n      <td>26-05-2025</td>\n      <td>Викладач програмування у дитячу школу (Python,...</td>\n      <td>Logika, всеукраїнська школа програмування для ...</td>\n      <td>Коломия</td>\n      <td>8 000 – 17 000 грн</td>\n      <td>[]</td>\n      <td>https://www.work.ua/jobs/5623410/</td>\n      <td>Python, Активність, Програмування, Креативніст...</td>\n      <td>26</td>\n      <td>05</td>\n      <td>2025</td>\n    </tr>\n    <tr>\n      <th>263</th>\n      <td>23-05-2025</td>\n      <td>PythonBack-end Web Developer</td>\n      <td>PBP Agency</td>\n      <td>Дистанційна робота</td>\n      <td>NaN</td>\n      <td>['5']</td>\n      <td>https://www.work.ua/jobs/6676327/</td>\n      <td>Комунікабельність, Відповідальність</td>\n      <td>23</td>\n      <td>05</td>\n      <td>2025</td>\n    </tr>\n    <tr>\n      <th>264</th>\n      <td>9-05-2025</td>\n      <td>JuniorPythonDeveloper</td>\n      <td>Julion IT</td>\n      <td>Київ, вулиця Ділова, 9А.</td>\n      <td>30 000 – 40 000 грн</td>\n      <td>[]</td>\n      <td>https://www.work.ua/jobs/6620947/</td>\n      <td>SQL, Git, Python, Django, FastAPI</td>\n      <td>9</td>\n      <td>05</td>\n      <td>2025</td>\n    </tr>\n  </tbody>\n</table>\n<p>265 rows × 11 columns</p>\n</div>"
     },
     "execution_count": 28,
     "metadata": {},
     "output_type": "execute_result"
    }
   ],
   "source": [
    "month_map = {\n",
    "        'січня': '01', 'лютого': '02', 'березня': '03',\n",
    "        'квітня': '04', 'травня': '05', 'червня': '06',\n",
    "        'липня': '07', 'серпня': '08', 'вересня': '09',\n",
    "        'жовтня': '10', 'листопада': '11', 'грудня': '12'\n",
    "    }\n",
    "\n",
    "split_date = python_df[\"date\"].str.split(\" \", expand=True)\n",
    "# print(split_date)\n",
    "python_df[\"day\"] = split_date[0]\n",
    "python_df[\"month\"] = split_date[1].map(month_map)\n",
    "python_df[\"year\"] =  split_date[2]\n",
    "\n",
    "python_df[\"date\"] = python_df[\"day\"] + \"-\" + python_df[\"month\"] + \"-\" + python_df[\"year\"]\n",
    "python_df"
   ],
   "metadata": {
    "collapsed": false,
    "ExecuteTime": {
     "end_time": "2025-05-28T11:22:38.881560Z",
     "start_time": "2025-05-28T11:22:38.837989Z"
    }
   },
   "id": "cddbb20b746ae7f2",
   "execution_count": 28
  },
  {
   "cell_type": "code",
   "outputs": [
    {
     "data": {
      "text/plain": "0   2025-05-09\n1   2025-05-23\n2   2025-05-23\n3   2025-05-21\n4   2025-05-14\nName: date, dtype: datetime64[ns]"
     },
     "execution_count": 29,
     "metadata": {},
     "output_type": "execute_result"
    }
   ],
   "source": [
    "pd.to_datetime(python_df[\"date\"], dayfirst=True).head()"
   ],
   "metadata": {
    "collapsed": false,
    "ExecuteTime": {
     "end_time": "2025-05-28T11:22:51.719198Z",
     "start_time": "2025-05-28T11:22:51.691335Z"
    }
   },
   "id": "203cc71e81a56c87",
   "execution_count": 29
  },
  {
   "cell_type": "code",
   "outputs": [],
   "source": [
    "python_df[\"date\"] = pd.to_datetime(python_df[\"date\"], dayfirst=True)"
   ],
   "metadata": {
    "collapsed": false,
    "ExecuteTime": {
     "end_time": "2025-05-28T11:22:55.002351Z",
     "start_time": "2025-05-28T11:22:54.989363Z"
    }
   },
   "id": "85d81cd2fa81c74c",
   "execution_count": 30
  },
  {
   "cell_type": "code",
   "outputs": [
    {
     "data": {
      "text/plain": "date            datetime64[ns]\ntitle                   object\ncompany                 object\nlocation                object\nsalary                  object\nexperience              object\nlink                    object\ntechnologies            object\nday                     object\nmonth                   object\nyear                    object\ndtype: object"
     },
     "execution_count": 31,
     "metadata": {},
     "output_type": "execute_result"
    }
   ],
   "source": [
    "python_df.dtypes"
   ],
   "metadata": {
    "collapsed": false,
    "ExecuteTime": {
     "end_time": "2025-05-28T11:22:56.431443Z",
     "start_time": "2025-05-28T11:22:56.406076Z"
    }
   },
   "id": "f3d1439d8ddd6879",
   "execution_count": 31
  },
  {
   "cell_type": "markdown",
   "source": [
    "Table index by daytime\n",
    "\n"
   ],
   "metadata": {
    "collapsed": false
   },
   "id": "da585526c6fe2c5a"
  },
  {
   "cell_type": "code",
   "outputs": [],
   "source": [
    "python_df.set_index(\"date\", inplace=True)"
   ],
   "metadata": {
    "collapsed": false,
    "ExecuteTime": {
     "end_time": "2025-05-28T11:23:04.722319Z",
     "start_time": "2025-05-28T11:23:04.703484Z"
    }
   },
   "id": "44ed1a7f018e60f8",
   "execution_count": 32
  },
  {
   "cell_type": "code",
   "outputs": [
    {
     "data": {
      "text/plain": "                                                        title  \\\ndate                                                            \n2025-05-09  Senior Back End-oriented Full-Stack Developer ...   \n2025-05-23     TypeScript/Python Developer with AI Experience   \n2025-05-23  Senior Python Developer in Virtual Services Te...   \n2025-05-21                              Python ML/AI Engineer   \n2025-05-14                     Senior Python+NodeJS developer   \n...                                                       ...   \n2025-05-20                             TraineePythonDeveloper   \n2025-05-26                          PythonDeveloper (Backend)   \n2025-05-26  Викладач програмування у дитячу школу (Python,...   \n2025-05-23                       PythonBack-end Web Developer   \n2025-05-09                              JuniorPythonDeveloper   \n\n                                                      company  \\\ndate                                                            \n2025-05-09                                            Adaptiq   \n2025-05-23                                              COXIT   \n2025-05-23                                           ZONE3000   \n2025-05-21                                        Itransition   \n2025-05-14                                        White Label   \n...                                                       ...   \n2025-05-20                                        Jewios Tech   \n2025-05-26                                      Asap Demo LLC   \n2025-05-26  Logika, всеукраїнська школа програмування для ...   \n2025-05-23                                         PBP Agency   \n2025-05-09                                          Julion IT   \n\n                                 location               salary experience  \\\ndate                                                                        \n2025-05-09                Київ, віддалено                  NaN         []   \n2025-05-23  Львів, за кордоном, віддалено           $4000–6000      ['3']   \n2025-05-23                      віддалено                  NaN      ['4']   \n2025-05-21                Київ, віддалено                  NaN         []   \n2025-05-14                      віддалено                  NaN         []   \n...                                   ...                  ...        ...   \n2025-05-20                           Київ           28 000 грн         []   \n2025-05-26                           Київ                  NaN      ['1']   \n2025-05-26                        Коломия   8 000 – 17 000 грн         []   \n2025-05-23             Дистанційна робота                  NaN      ['5']   \n2025-05-09       Київ, вулиця Ділова, 9А.  30 000 – 40 000 грн         []   \n\n                                                         link  \\\ndate                                                            \n2025-05-09  https://jobs.dou.ua/companies/adaptiq/vacancie...   \n2025-05-23  https://jobs.dou.ua/companies/coxit/vacancies/...   \n2025-05-23  https://jobs.dou.ua/companies/zone3000/vacanci...   \n2025-05-21  https://jobs.dou.ua/companies/itransition/vaca...   \n2025-05-14  https://jobs.dou.ua/companies/ffflabel/vacanci...   \n...                                                       ...   \n2025-05-20                  https://www.work.ua/jobs/6547663/   \n2025-05-26                  https://www.work.ua/jobs/6628531/   \n2025-05-26                  https://www.work.ua/jobs/5623410/   \n2025-05-23                  https://www.work.ua/jobs/6676327/   \n2025-05-09                  https://www.work.ua/jobs/6620947/   \n\n                                                 technologies day month  year  \ndate                                                                           \n2025-05-09                       teamwork, documentation, gcp   9    05  2025  \n2025-05-23  openai, scratch, independence, responsibility,...  23    05  2025  \n2025-05-23  unity, pytest, communication skills, programmi...  23    05  2025  \n2025-05-21                                             openai  21    05  2025  \n2025-05-14                                        reliability  14    05  2025  \n...                                                       ...  ..   ...   ...  \n2025-05-20                                                NaN  20    05  2025  \n2025-05-26  Користувач ОС Linux, SQL, JavaScript, Python, ...  26    05  2025  \n2025-05-26  Python, Активність, Програмування, Креативніст...  26    05  2025  \n2025-05-23                Комунікабельність, Відповідальність  23    05  2025  \n2025-05-09                  SQL, Git, Python, Django, FastAPI   9    05  2025  \n\n[265 rows x 10 columns]",
      "text/html": "<div>\n<style scoped>\n    .dataframe tbody tr th:only-of-type {\n        vertical-align: middle;\n    }\n\n    .dataframe tbody tr th {\n        vertical-align: top;\n    }\n\n    .dataframe thead th {\n        text-align: right;\n    }\n</style>\n<table border=\"1\" class=\"dataframe\">\n  <thead>\n    <tr style=\"text-align: right;\">\n      <th></th>\n      <th>title</th>\n      <th>company</th>\n      <th>location</th>\n      <th>salary</th>\n      <th>experience</th>\n      <th>link</th>\n      <th>technologies</th>\n      <th>day</th>\n      <th>month</th>\n      <th>year</th>\n    </tr>\n    <tr>\n      <th>date</th>\n      <th></th>\n      <th></th>\n      <th></th>\n      <th></th>\n      <th></th>\n      <th></th>\n      <th></th>\n      <th></th>\n      <th></th>\n      <th></th>\n    </tr>\n  </thead>\n  <tbody>\n    <tr>\n      <th>2025-05-09</th>\n      <td>Senior Back End-oriented Full-Stack Developer ...</td>\n      <td>Adaptiq</td>\n      <td>Київ, віддалено</td>\n      <td>NaN</td>\n      <td>[]</td>\n      <td>https://jobs.dou.ua/companies/adaptiq/vacancie...</td>\n      <td>teamwork, documentation, gcp</td>\n      <td>9</td>\n      <td>05</td>\n      <td>2025</td>\n    </tr>\n    <tr>\n      <th>2025-05-23</th>\n      <td>TypeScript/Python Developer with AI Experience</td>\n      <td>COXIT</td>\n      <td>Львів, за кордоном, віддалено</td>\n      <td>$4000–6000</td>\n      <td>['3']</td>\n      <td>https://jobs.dou.ua/companies/coxit/vacancies/...</td>\n      <td>openai, scratch, independence, responsibility,...</td>\n      <td>23</td>\n      <td>05</td>\n      <td>2025</td>\n    </tr>\n    <tr>\n      <th>2025-05-23</th>\n      <td>Senior Python Developer in Virtual Services Te...</td>\n      <td>ZONE3000</td>\n      <td>віддалено</td>\n      <td>NaN</td>\n      <td>['4']</td>\n      <td>https://jobs.dou.ua/companies/zone3000/vacanci...</td>\n      <td>unity, pytest, communication skills, programmi...</td>\n      <td>23</td>\n      <td>05</td>\n      <td>2025</td>\n    </tr>\n    <tr>\n      <th>2025-05-21</th>\n      <td>Python ML/AI Engineer</td>\n      <td>Itransition</td>\n      <td>Київ, віддалено</td>\n      <td>NaN</td>\n      <td>[]</td>\n      <td>https://jobs.dou.ua/companies/itransition/vaca...</td>\n      <td>openai</td>\n      <td>21</td>\n      <td>05</td>\n      <td>2025</td>\n    </tr>\n    <tr>\n      <th>2025-05-14</th>\n      <td>Senior Python+NodeJS developer</td>\n      <td>White Label</td>\n      <td>віддалено</td>\n      <td>NaN</td>\n      <td>[]</td>\n      <td>https://jobs.dou.ua/companies/ffflabel/vacanci...</td>\n      <td>reliability</td>\n      <td>14</td>\n      <td>05</td>\n      <td>2025</td>\n    </tr>\n    <tr>\n      <th>...</th>\n      <td>...</td>\n      <td>...</td>\n      <td>...</td>\n      <td>...</td>\n      <td>...</td>\n      <td>...</td>\n      <td>...</td>\n      <td>...</td>\n      <td>...</td>\n      <td>...</td>\n    </tr>\n    <tr>\n      <th>2025-05-20</th>\n      <td>TraineePythonDeveloper</td>\n      <td>Jewios Tech</td>\n      <td>Київ</td>\n      <td>28 000 грн</td>\n      <td>[]</td>\n      <td>https://www.work.ua/jobs/6547663/</td>\n      <td>NaN</td>\n      <td>20</td>\n      <td>05</td>\n      <td>2025</td>\n    </tr>\n    <tr>\n      <th>2025-05-26</th>\n      <td>PythonDeveloper (Backend)</td>\n      <td>Asap Demo LLC</td>\n      <td>Київ</td>\n      <td>NaN</td>\n      <td>['1']</td>\n      <td>https://www.work.ua/jobs/6628531/</td>\n      <td>Користувач ОС Linux, SQL, JavaScript, Python, ...</td>\n      <td>26</td>\n      <td>05</td>\n      <td>2025</td>\n    </tr>\n    <tr>\n      <th>2025-05-26</th>\n      <td>Викладач програмування у дитячу школу (Python,...</td>\n      <td>Logika, всеукраїнська школа програмування для ...</td>\n      <td>Коломия</td>\n      <td>8 000 – 17 000 грн</td>\n      <td>[]</td>\n      <td>https://www.work.ua/jobs/5623410/</td>\n      <td>Python, Активність, Програмування, Креативніст...</td>\n      <td>26</td>\n      <td>05</td>\n      <td>2025</td>\n    </tr>\n    <tr>\n      <th>2025-05-23</th>\n      <td>PythonBack-end Web Developer</td>\n      <td>PBP Agency</td>\n      <td>Дистанційна робота</td>\n      <td>NaN</td>\n      <td>['5']</td>\n      <td>https://www.work.ua/jobs/6676327/</td>\n      <td>Комунікабельність, Відповідальність</td>\n      <td>23</td>\n      <td>05</td>\n      <td>2025</td>\n    </tr>\n    <tr>\n      <th>2025-05-09</th>\n      <td>JuniorPythonDeveloper</td>\n      <td>Julion IT</td>\n      <td>Київ, вулиця Ділова, 9А.</td>\n      <td>30 000 – 40 000 грн</td>\n      <td>[]</td>\n      <td>https://www.work.ua/jobs/6620947/</td>\n      <td>SQL, Git, Python, Django, FastAPI</td>\n      <td>9</td>\n      <td>05</td>\n      <td>2025</td>\n    </tr>\n  </tbody>\n</table>\n<p>265 rows × 10 columns</p>\n</div>"
     },
     "execution_count": 33,
     "metadata": {},
     "output_type": "execute_result"
    }
   ],
   "source": [
    "python_df"
   ],
   "metadata": {
    "collapsed": false,
    "ExecuteTime": {
     "end_time": "2025-05-28T11:23:05.543315Z",
     "start_time": "2025-05-28T11:23:05.486795Z"
    }
   },
   "id": "c3c9e06e64a06bd0",
   "execution_count": 33
  },
  {
   "cell_type": "code",
   "outputs": [],
   "source": [],
   "metadata": {
    "collapsed": false,
    "ExecuteTime": {
     "end_time": "2025-05-28T11:23:08.709990Z",
     "start_time": "2025-05-28T11:23:08.698093Z"
    }
   },
   "id": "1b147f5e5b5f9461",
   "execution_count": 33
  },
  {
   "cell_type": "code",
   "outputs": [],
   "source": [],
   "metadata": {
    "collapsed": false
   },
   "id": "23f23d7b9546ab6e"
  }
 ],
 "metadata": {
  "kernelspec": {
   "display_name": "Python 3",
   "language": "python",
   "name": "python3"
  },
  "language_info": {
   "codemirror_mode": {
    "name": "ipython",
    "version": 2
   },
   "file_extension": ".py",
   "mimetype": "text/x-python",
   "name": "python",
   "nbconvert_exporter": "python",
   "pygments_lexer": "ipython2",
   "version": "2.7.6"
  }
 },
 "nbformat": 4,
 "nbformat_minor": 5
}
