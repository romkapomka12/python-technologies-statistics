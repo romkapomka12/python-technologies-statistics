{
 "cells": [
  {
   "cell_type": "code",
   "execution_count": 1,
   "id": "initial_id",
   "metadata": {
    "collapsed": true,
    "ExecuteTime": {
     "end_time": "2025-05-28T12:22:24.942178Z",
     "start_time": "2025-05-28T12:22:23.253321Z"
    }
   },
   "outputs": [],
   "source": [
    "import numpy as np\n",
    "import pandas as pd\n",
    "import os"
   ]
  },
  {
   "cell_type": "markdown",
   "source": [
    "READ CSV"
   ],
   "metadata": {
    "collapsed": false
   },
   "id": "118ababe14966f7f"
  },
  {
   "cell_type": "code",
   "outputs": [
    {
     "data": {
      "text/plain": "(265, 8)"
     },
     "execution_count": 2,
     "metadata": {},
     "output_type": "execute_result"
    }
   ],
   "source": [
    "file_path = os.path.join(\"..\", \"data\", \"processed\", \"output.csv\")  \n",
    "python_df = pd.read_csv(file_path,  encoding=\"utf-8\")\n",
    "python_df.replace(\"[ ]\", np.nan, inplace=True)\n",
    "python_df.shape"
   ],
   "metadata": {
    "collapsed": false,
    "ExecuteTime": {
     "end_time": "2025-05-28T12:22:58.391905Z",
     "start_time": "2025-05-28T12:22:58.351791Z"
    }
   },
   "id": "949f9324a0008b5b",
   "execution_count": 2
  },
  {
   "cell_type": "code",
   "outputs": [
    {
     "data": {
      "text/plain": "             date                                              title  \\\n0   9 травня 2025  Senior Back End-oriented Full-Stack Developer ...   \n1  23 травня 2025     TypeScript/Python Developer with AI Experience   \n2  23 травня 2025  Senior Python Developer in Virtual Services Te...   \n3  21 травня 2025                              Python ML/AI Engineer   \n4  14 травня 2025                     Senior Python+NodeJS developer   \n5   7 травня 2025                             Senior Python Engineer   \n6   9 травня 2025  Senior AI/LLM Python Engineer (with experience...   \n7  14 травня 2025          Senior Backend Engineer (Data Processing)   \n8  19 травня 2025  Python Full Stack Developer (Crypto Data Visua...   \n9  23 травня 2025           Junior Software Engineer (Python) (#990)   \n\n                       company                                      location  \\\n0                      Adaptiq                               Київ, віддалено   \n1                        COXIT                 Львів, за кордоном, віддалено   \n2                     ZONE3000                                     віддалено   \n3                  Itransition                               Київ, віддалено   \n4                  White Label                                     віддалено   \n5              Akvelon Ukraine                     Гдиня (Польща), віддалено   \n6                     Agiliway  Львів, Івано-Франківськ, Чернівці, віддалено   \n7                        Shelf             Poland (remote), Вроцлав (Польща)   \n8  Codebridge Technology, Inc.                               Київ, віддалено   \n9                     ZONE3000                                     віддалено   \n\n       salary experience                                               link  \\\n0         NaN         []  https://jobs.dou.ua/companies/adaptiq/vacancie...   \n1  $4000–6000      ['3']  https://jobs.dou.ua/companies/coxit/vacancies/...   \n2         NaN      ['4']  https://jobs.dou.ua/companies/zone3000/vacanci...   \n3         NaN         []  https://jobs.dou.ua/companies/itransition/vaca...   \n4         NaN         []  https://jobs.dou.ua/companies/ffflabel/vacanci...   \n5         NaN         []  https://jobs.dou.ua/companies/akvelon-ukraine/...   \n6         NaN         []  https://jobs.dou.ua/companies/agiliway/vacanci...   \n7         NaN         []  https://jobs.dou.ua/companies/shelf-io/vacanci...   \n8         NaN      ['3']  https://jobs.dou.ua/companies/codebridge-techn...   \n9         NaN      ['1']  https://jobs.dou.ua/companies/zone3000/vacanci...   \n\n                                        technologies  \n0                       teamwork, documentation, gcp  \n1  openai, scratch, independence, responsibility,...  \n2  unity, pytest, communication skills, programmi...  \n3                                             openai  \n4                                        reliability  \n5         unity, bash, jenkins, ansible, programming  \n6                                        reliability  \n7  unity, openai, initiative, documentation, reli...  \n8                        pandas, numpy, productivity  \n9      unity, reliability, communication skills, gcp  ",
      "text/html": "<div>\n<style scoped>\n    .dataframe tbody tr th:only-of-type {\n        vertical-align: middle;\n    }\n\n    .dataframe tbody tr th {\n        vertical-align: top;\n    }\n\n    .dataframe thead th {\n        text-align: right;\n    }\n</style>\n<table border=\"1\" class=\"dataframe\">\n  <thead>\n    <tr style=\"text-align: right;\">\n      <th></th>\n      <th>date</th>\n      <th>title</th>\n      <th>company</th>\n      <th>location</th>\n      <th>salary</th>\n      <th>experience</th>\n      <th>link</th>\n      <th>technologies</th>\n    </tr>\n  </thead>\n  <tbody>\n    <tr>\n      <th>0</th>\n      <td>9 травня 2025</td>\n      <td>Senior Back End-oriented Full-Stack Developer ...</td>\n      <td>Adaptiq</td>\n      <td>Київ, віддалено</td>\n      <td>NaN</td>\n      <td>[]</td>\n      <td>https://jobs.dou.ua/companies/adaptiq/vacancie...</td>\n      <td>teamwork, documentation, gcp</td>\n    </tr>\n    <tr>\n      <th>1</th>\n      <td>23 травня 2025</td>\n      <td>TypeScript/Python Developer with AI Experience</td>\n      <td>COXIT</td>\n      <td>Львів, за кордоном, віддалено</td>\n      <td>$4000–6000</td>\n      <td>['3']</td>\n      <td>https://jobs.dou.ua/companies/coxit/vacancies/...</td>\n      <td>openai, scratch, independence, responsibility,...</td>\n    </tr>\n    <tr>\n      <th>2</th>\n      <td>23 травня 2025</td>\n      <td>Senior Python Developer in Virtual Services Te...</td>\n      <td>ZONE3000</td>\n      <td>віддалено</td>\n      <td>NaN</td>\n      <td>['4']</td>\n      <td>https://jobs.dou.ua/companies/zone3000/vacanci...</td>\n      <td>unity, pytest, communication skills, programmi...</td>\n    </tr>\n    <tr>\n      <th>3</th>\n      <td>21 травня 2025</td>\n      <td>Python ML/AI Engineer</td>\n      <td>Itransition</td>\n      <td>Київ, віддалено</td>\n      <td>NaN</td>\n      <td>[]</td>\n      <td>https://jobs.dou.ua/companies/itransition/vaca...</td>\n      <td>openai</td>\n    </tr>\n    <tr>\n      <th>4</th>\n      <td>14 травня 2025</td>\n      <td>Senior Python+NodeJS developer</td>\n      <td>White Label</td>\n      <td>віддалено</td>\n      <td>NaN</td>\n      <td>[]</td>\n      <td>https://jobs.dou.ua/companies/ffflabel/vacanci...</td>\n      <td>reliability</td>\n    </tr>\n    <tr>\n      <th>5</th>\n      <td>7 травня 2025</td>\n      <td>Senior Python Engineer</td>\n      <td>Akvelon Ukraine</td>\n      <td>Гдиня (Польща), віддалено</td>\n      <td>NaN</td>\n      <td>[]</td>\n      <td>https://jobs.dou.ua/companies/akvelon-ukraine/...</td>\n      <td>unity, bash, jenkins, ansible, programming</td>\n    </tr>\n    <tr>\n      <th>6</th>\n      <td>9 травня 2025</td>\n      <td>Senior AI/LLM Python Engineer (with experience...</td>\n      <td>Agiliway</td>\n      <td>Львів, Івано-Франківськ, Чернівці, віддалено</td>\n      <td>NaN</td>\n      <td>[]</td>\n      <td>https://jobs.dou.ua/companies/agiliway/vacanci...</td>\n      <td>reliability</td>\n    </tr>\n    <tr>\n      <th>7</th>\n      <td>14 травня 2025</td>\n      <td>Senior Backend Engineer (Data Processing)</td>\n      <td>Shelf</td>\n      <td>Poland (remote), Вроцлав (Польща)</td>\n      <td>NaN</td>\n      <td>[]</td>\n      <td>https://jobs.dou.ua/companies/shelf-io/vacanci...</td>\n      <td>unity, openai, initiative, documentation, reli...</td>\n    </tr>\n    <tr>\n      <th>8</th>\n      <td>19 травня 2025</td>\n      <td>Python Full Stack Developer (Crypto Data Visua...</td>\n      <td>Codebridge Technology, Inc.</td>\n      <td>Київ, віддалено</td>\n      <td>NaN</td>\n      <td>['3']</td>\n      <td>https://jobs.dou.ua/companies/codebridge-techn...</td>\n      <td>pandas, numpy, productivity</td>\n    </tr>\n    <tr>\n      <th>9</th>\n      <td>23 травня 2025</td>\n      <td>Junior Software Engineer (Python) (#990)</td>\n      <td>ZONE3000</td>\n      <td>віддалено</td>\n      <td>NaN</td>\n      <td>['1']</td>\n      <td>https://jobs.dou.ua/companies/zone3000/vacanci...</td>\n      <td>unity, reliability, communication skills, gcp</td>\n    </tr>\n  </tbody>\n</table>\n</div>"
     },
     "execution_count": 3,
     "metadata": {},
     "output_type": "execute_result"
    }
   ],
   "source": [
    "python_df.head(10)"
   ],
   "metadata": {
    "collapsed": false,
    "ExecuteTime": {
     "end_time": "2025-05-28T12:22:59.131007Z",
     "start_time": "2025-05-28T12:22:59.089901Z"
    }
   },
   "id": "346e3c4c17dea0c1",
   "execution_count": 3
  },
  {
   "cell_type": "code",
   "outputs": [
    {
     "data": {
      "text/plain": "                            date  \\\n260  Вакансія від 20 травня 2025   \n261  Вакансія від 26 травня 2025   \n262  Вакансія від 26 травня 2025   \n263  Вакансія від 23 травня 2025   \n264   Вакансія від 9 травня 2025   \n\n                                                 title  \\\n260                             TraineePythonDeveloper   \n261                          PythonDeveloper (Backend)   \n262  Викладач програмування у дитячу школу (Python,...   \n263                       PythonBack-end Web Developer   \n264                              JuniorPythonDeveloper   \n\n                                               company  \\\n260                                        Jewios Tech   \n261                                      Asap Demo LLC   \n262  Logika, всеукраїнська школа програмування для ...   \n263                                         PBP Agency   \n264                                          Julion IT   \n\n                     location               salary experience  \\\n260                      Київ           28 000 грн         []   \n261                      Київ                  NaN      ['1']   \n262                   Коломия   8 000 – 17 000 грн         []   \n263        Дистанційна робота                  NaN      ['5']   \n264  Київ, вулиця Ділова, 9А.  30 000 – 40 000 грн         []   \n\n                                  link  \\\n260  https://www.work.ua/jobs/6547663/   \n261  https://www.work.ua/jobs/6628531/   \n262  https://www.work.ua/jobs/5623410/   \n263  https://www.work.ua/jobs/6676327/   \n264  https://www.work.ua/jobs/6620947/   \n\n                                          technologies  \n260                                                NaN  \n261  Користувач ОС Linux, SQL, JavaScript, Python, ...  \n262  Python, Активність, Програмування, Креативніст...  \n263                Комунікабельність, Відповідальність  \n264                  SQL, Git, Python, Django, FastAPI  ",
      "text/html": "<div>\n<style scoped>\n    .dataframe tbody tr th:only-of-type {\n        vertical-align: middle;\n    }\n\n    .dataframe tbody tr th {\n        vertical-align: top;\n    }\n\n    .dataframe thead th {\n        text-align: right;\n    }\n</style>\n<table border=\"1\" class=\"dataframe\">\n  <thead>\n    <tr style=\"text-align: right;\">\n      <th></th>\n      <th>date</th>\n      <th>title</th>\n      <th>company</th>\n      <th>location</th>\n      <th>salary</th>\n      <th>experience</th>\n      <th>link</th>\n      <th>technologies</th>\n    </tr>\n  </thead>\n  <tbody>\n    <tr>\n      <th>260</th>\n      <td>Вакансія від 20 травня 2025</td>\n      <td>TraineePythonDeveloper</td>\n      <td>Jewios Tech</td>\n      <td>Київ</td>\n      <td>28 000 грн</td>\n      <td>[]</td>\n      <td>https://www.work.ua/jobs/6547663/</td>\n      <td>NaN</td>\n    </tr>\n    <tr>\n      <th>261</th>\n      <td>Вакансія від 26 травня 2025</td>\n      <td>PythonDeveloper (Backend)</td>\n      <td>Asap Demo LLC</td>\n      <td>Київ</td>\n      <td>NaN</td>\n      <td>['1']</td>\n      <td>https://www.work.ua/jobs/6628531/</td>\n      <td>Користувач ОС Linux, SQL, JavaScript, Python, ...</td>\n    </tr>\n    <tr>\n      <th>262</th>\n      <td>Вакансія від 26 травня 2025</td>\n      <td>Викладач програмування у дитячу школу (Python,...</td>\n      <td>Logika, всеукраїнська школа програмування для ...</td>\n      <td>Коломия</td>\n      <td>8 000 – 17 000 грн</td>\n      <td>[]</td>\n      <td>https://www.work.ua/jobs/5623410/</td>\n      <td>Python, Активність, Програмування, Креативніст...</td>\n    </tr>\n    <tr>\n      <th>263</th>\n      <td>Вакансія від 23 травня 2025</td>\n      <td>PythonBack-end Web Developer</td>\n      <td>PBP Agency</td>\n      <td>Дистанційна робота</td>\n      <td>NaN</td>\n      <td>['5']</td>\n      <td>https://www.work.ua/jobs/6676327/</td>\n      <td>Комунікабельність, Відповідальність</td>\n    </tr>\n    <tr>\n      <th>264</th>\n      <td>Вакансія від 9 травня 2025</td>\n      <td>JuniorPythonDeveloper</td>\n      <td>Julion IT</td>\n      <td>Київ, вулиця Ділова, 9А.</td>\n      <td>30 000 – 40 000 грн</td>\n      <td>[]</td>\n      <td>https://www.work.ua/jobs/6620947/</td>\n      <td>SQL, Git, Python, Django, FastAPI</td>\n    </tr>\n  </tbody>\n</table>\n</div>"
     },
     "execution_count": 4,
     "metadata": {},
     "output_type": "execute_result"
    }
   ],
   "source": [
    "python_df.tail()"
   ],
   "metadata": {
    "collapsed": false,
    "ExecuteTime": {
     "end_time": "2025-05-28T12:23:00.908Z",
     "start_time": "2025-05-28T12:23:00.879361Z"
    }
   },
   "id": "1be8fdfcbedf8e6b",
   "execution_count": 4
  },
  {
   "cell_type": "code",
   "outputs": [
    {
     "data": {
      "text/plain": "date            object\ntitle           object\ncompany         object\nlocation        object\nsalary          object\nexperience      object\nlink            object\ntechnologies    object\ndtype: object"
     },
     "execution_count": 5,
     "metadata": {},
     "output_type": "execute_result"
    }
   ],
   "source": [
    "python_df.dtypes"
   ],
   "metadata": {
    "collapsed": false,
    "ExecuteTime": {
     "end_time": "2025-05-28T12:23:02.199633Z",
     "start_time": "2025-05-28T12:23:02.172026Z"
    }
   },
   "id": "9593051036e5d269",
   "execution_count": 5
  },
  {
   "cell_type": "markdown",
   "source": [],
   "metadata": {
    "collapsed": false
   },
   "id": "562608b8cfa787be"
  },
  {
   "cell_type": "markdown",
   "source": [
    "Converting a date object to a daytime object\n"
   ],
   "metadata": {
    "collapsed": false
   },
   "id": "917c338815f1d6d0"
  },
  {
   "cell_type": "code",
   "outputs": [],
   "source": [
    "python_df[\"date\"] = python_df[\"date\"].str.replace(\"Вакансія від \", \" \", regex=False)\n",
    "python_df[\"date\"] = python_df[\"date\"].str.strip()"
   ],
   "metadata": {
    "collapsed": false,
    "ExecuteTime": {
     "end_time": "2025-05-28T12:23:06.034626Z",
     "start_time": "2025-05-28T12:23:06.012403Z"
    }
   },
   "id": "e30f96f5a3b1c492",
   "execution_count": 6
  },
  {
   "cell_type": "code",
   "outputs": [
    {
     "data": {
      "text/plain": "               date                                              title  \\\n0     9 травня 2025  Senior Back End-oriented Full-Stack Developer ...   \n1    23 травня 2025     TypeScript/Python Developer with AI Experience   \n2    23 травня 2025  Senior Python Developer in Virtual Services Te...   \n3    21 травня 2025                              Python ML/AI Engineer   \n4    14 травня 2025                     Senior Python+NodeJS developer   \n..              ...                                                ...   \n260  20 травня 2025                             TraineePythonDeveloper   \n261  26 травня 2025                          PythonDeveloper (Backend)   \n262  26 травня 2025  Викладач програмування у дитячу школу (Python,...   \n263  23 травня 2025                       PythonBack-end Web Developer   \n264   9 травня 2025                              JuniorPythonDeveloper   \n\n                                               company  \\\n0                                              Adaptiq   \n1                                                COXIT   \n2                                             ZONE3000   \n3                                          Itransition   \n4                                          White Label   \n..                                                 ...   \n260                                        Jewios Tech   \n261                                      Asap Demo LLC   \n262  Logika, всеукраїнська школа програмування для ...   \n263                                         PBP Agency   \n264                                          Julion IT   \n\n                          location               salary experience  \\\n0                  Київ, віддалено                  NaN         []   \n1    Львів, за кордоном, віддалено           $4000–6000      ['3']   \n2                        віддалено                  NaN      ['4']   \n3                  Київ, віддалено                  NaN         []   \n4                        віддалено                  NaN         []   \n..                             ...                  ...        ...   \n260                           Київ           28 000 грн         []   \n261                           Київ                  NaN      ['1']   \n262                        Коломия   8 000 – 17 000 грн         []   \n263             Дистанційна робота                  NaN      ['5']   \n264       Київ, вулиця Ділова, 9А.  30 000 – 40 000 грн         []   \n\n                                                  link  \\\n0    https://jobs.dou.ua/companies/adaptiq/vacancie...   \n1    https://jobs.dou.ua/companies/coxit/vacancies/...   \n2    https://jobs.dou.ua/companies/zone3000/vacanci...   \n3    https://jobs.dou.ua/companies/itransition/vaca...   \n4    https://jobs.dou.ua/companies/ffflabel/vacanci...   \n..                                                 ...   \n260                  https://www.work.ua/jobs/6547663/   \n261                  https://www.work.ua/jobs/6628531/   \n262                  https://www.work.ua/jobs/5623410/   \n263                  https://www.work.ua/jobs/6676327/   \n264                  https://www.work.ua/jobs/6620947/   \n\n                                          technologies  \n0                         teamwork, documentation, gcp  \n1    openai, scratch, independence, responsibility,...  \n2    unity, pytest, communication skills, programmi...  \n3                                               openai  \n4                                          reliability  \n..                                                 ...  \n260                                                NaN  \n261  Користувач ОС Linux, SQL, JavaScript, Python, ...  \n262  Python, Активність, Програмування, Креативніст...  \n263                Комунікабельність, Відповідальність  \n264                  SQL, Git, Python, Django, FastAPI  \n\n[265 rows x 8 columns]",
      "text/html": "<div>\n<style scoped>\n    .dataframe tbody tr th:only-of-type {\n        vertical-align: middle;\n    }\n\n    .dataframe tbody tr th {\n        vertical-align: top;\n    }\n\n    .dataframe thead th {\n        text-align: right;\n    }\n</style>\n<table border=\"1\" class=\"dataframe\">\n  <thead>\n    <tr style=\"text-align: right;\">\n      <th></th>\n      <th>date</th>\n      <th>title</th>\n      <th>company</th>\n      <th>location</th>\n      <th>salary</th>\n      <th>experience</th>\n      <th>link</th>\n      <th>technologies</th>\n    </tr>\n  </thead>\n  <tbody>\n    <tr>\n      <th>0</th>\n      <td>9 травня 2025</td>\n      <td>Senior Back End-oriented Full-Stack Developer ...</td>\n      <td>Adaptiq</td>\n      <td>Київ, віддалено</td>\n      <td>NaN</td>\n      <td>[]</td>\n      <td>https://jobs.dou.ua/companies/adaptiq/vacancie...</td>\n      <td>teamwork, documentation, gcp</td>\n    </tr>\n    <tr>\n      <th>1</th>\n      <td>23 травня 2025</td>\n      <td>TypeScript/Python Developer with AI Experience</td>\n      <td>COXIT</td>\n      <td>Львів, за кордоном, віддалено</td>\n      <td>$4000–6000</td>\n      <td>['3']</td>\n      <td>https://jobs.dou.ua/companies/coxit/vacancies/...</td>\n      <td>openai, scratch, independence, responsibility,...</td>\n    </tr>\n    <tr>\n      <th>2</th>\n      <td>23 травня 2025</td>\n      <td>Senior Python Developer in Virtual Services Te...</td>\n      <td>ZONE3000</td>\n      <td>віддалено</td>\n      <td>NaN</td>\n      <td>['4']</td>\n      <td>https://jobs.dou.ua/companies/zone3000/vacanci...</td>\n      <td>unity, pytest, communication skills, programmi...</td>\n    </tr>\n    <tr>\n      <th>3</th>\n      <td>21 травня 2025</td>\n      <td>Python ML/AI Engineer</td>\n      <td>Itransition</td>\n      <td>Київ, віддалено</td>\n      <td>NaN</td>\n      <td>[]</td>\n      <td>https://jobs.dou.ua/companies/itransition/vaca...</td>\n      <td>openai</td>\n    </tr>\n    <tr>\n      <th>4</th>\n      <td>14 травня 2025</td>\n      <td>Senior Python+NodeJS developer</td>\n      <td>White Label</td>\n      <td>віддалено</td>\n      <td>NaN</td>\n      <td>[]</td>\n      <td>https://jobs.dou.ua/companies/ffflabel/vacanci...</td>\n      <td>reliability</td>\n    </tr>\n    <tr>\n      <th>...</th>\n      <td>...</td>\n      <td>...</td>\n      <td>...</td>\n      <td>...</td>\n      <td>...</td>\n      <td>...</td>\n      <td>...</td>\n      <td>...</td>\n    </tr>\n    <tr>\n      <th>260</th>\n      <td>20 травня 2025</td>\n      <td>TraineePythonDeveloper</td>\n      <td>Jewios Tech</td>\n      <td>Київ</td>\n      <td>28 000 грн</td>\n      <td>[]</td>\n      <td>https://www.work.ua/jobs/6547663/</td>\n      <td>NaN</td>\n    </tr>\n    <tr>\n      <th>261</th>\n      <td>26 травня 2025</td>\n      <td>PythonDeveloper (Backend)</td>\n      <td>Asap Demo LLC</td>\n      <td>Київ</td>\n      <td>NaN</td>\n      <td>['1']</td>\n      <td>https://www.work.ua/jobs/6628531/</td>\n      <td>Користувач ОС Linux, SQL, JavaScript, Python, ...</td>\n    </tr>\n    <tr>\n      <th>262</th>\n      <td>26 травня 2025</td>\n      <td>Викладач програмування у дитячу школу (Python,...</td>\n      <td>Logika, всеукраїнська школа програмування для ...</td>\n      <td>Коломия</td>\n      <td>8 000 – 17 000 грн</td>\n      <td>[]</td>\n      <td>https://www.work.ua/jobs/5623410/</td>\n      <td>Python, Активність, Програмування, Креативніст...</td>\n    </tr>\n    <tr>\n      <th>263</th>\n      <td>23 травня 2025</td>\n      <td>PythonBack-end Web Developer</td>\n      <td>PBP Agency</td>\n      <td>Дистанційна робота</td>\n      <td>NaN</td>\n      <td>['5']</td>\n      <td>https://www.work.ua/jobs/6676327/</td>\n      <td>Комунікабельність, Відповідальність</td>\n    </tr>\n    <tr>\n      <th>264</th>\n      <td>9 травня 2025</td>\n      <td>JuniorPythonDeveloper</td>\n      <td>Julion IT</td>\n      <td>Київ, вулиця Ділова, 9А.</td>\n      <td>30 000 – 40 000 грн</td>\n      <td>[]</td>\n      <td>https://www.work.ua/jobs/6620947/</td>\n      <td>SQL, Git, Python, Django, FastAPI</td>\n    </tr>\n  </tbody>\n</table>\n<p>265 rows × 8 columns</p>\n</div>"
     },
     "execution_count": 7,
     "metadata": {},
     "output_type": "execute_result"
    }
   ],
   "source": [
    "python_df"
   ],
   "metadata": {
    "collapsed": false,
    "ExecuteTime": {
     "end_time": "2025-05-28T12:23:07.056827Z",
     "start_time": "2025-05-28T12:23:07.032020Z"
    }
   },
   "id": "2dca865ab8e1a420",
   "execution_count": 7
  },
  {
   "cell_type": "markdown",
   "source": [
    "Breaking it down into components"
   ],
   "metadata": {
    "collapsed": false
   },
   "id": "72174f2cca058e5e"
  },
  {
   "cell_type": "code",
   "outputs": [
    {
     "data": {
      "text/plain": "           date                                              title  \\\n0     9-05-2025  Senior Back End-oriented Full-Stack Developer ...   \n1    23-05-2025     TypeScript/Python Developer with AI Experience   \n2    23-05-2025  Senior Python Developer in Virtual Services Te...   \n3    21-05-2025                              Python ML/AI Engineer   \n4    14-05-2025                     Senior Python+NodeJS developer   \n..          ...                                                ...   \n260  20-05-2025                             TraineePythonDeveloper   \n261  26-05-2025                          PythonDeveloper (Backend)   \n262  26-05-2025  Викладач програмування у дитячу школу (Python,...   \n263  23-05-2025                       PythonBack-end Web Developer   \n264   9-05-2025                              JuniorPythonDeveloper   \n\n                                               company  \\\n0                                              Adaptiq   \n1                                                COXIT   \n2                                             ZONE3000   \n3                                          Itransition   \n4                                          White Label   \n..                                                 ...   \n260                                        Jewios Tech   \n261                                      Asap Demo LLC   \n262  Logika, всеукраїнська школа програмування для ...   \n263                                         PBP Agency   \n264                                          Julion IT   \n\n                          location               salary experience  \\\n0                  Київ, віддалено                  NaN         []   \n1    Львів, за кордоном, віддалено           $4000–6000      ['3']   \n2                        віддалено                  NaN      ['4']   \n3                  Київ, віддалено                  NaN         []   \n4                        віддалено                  NaN         []   \n..                             ...                  ...        ...   \n260                           Київ           28 000 грн         []   \n261                           Київ                  NaN      ['1']   \n262                        Коломия   8 000 – 17 000 грн         []   \n263             Дистанційна робота                  NaN      ['5']   \n264       Київ, вулиця Ділова, 9А.  30 000 – 40 000 грн         []   \n\n                                                  link  \\\n0    https://jobs.dou.ua/companies/adaptiq/vacancie...   \n1    https://jobs.dou.ua/companies/coxit/vacancies/...   \n2    https://jobs.dou.ua/companies/zone3000/vacanci...   \n3    https://jobs.dou.ua/companies/itransition/vaca...   \n4    https://jobs.dou.ua/companies/ffflabel/vacanci...   \n..                                                 ...   \n260                  https://www.work.ua/jobs/6547663/   \n261                  https://www.work.ua/jobs/6628531/   \n262                  https://www.work.ua/jobs/5623410/   \n263                  https://www.work.ua/jobs/6676327/   \n264                  https://www.work.ua/jobs/6620947/   \n\n                                          technologies day month  year  \n0                         teamwork, documentation, gcp   9    05  2025  \n1    openai, scratch, independence, responsibility,...  23    05  2025  \n2    unity, pytest, communication skills, programmi...  23    05  2025  \n3                                               openai  21    05  2025  \n4                                          reliability  14    05  2025  \n..                                                 ...  ..   ...   ...  \n260                                                NaN  20    05  2025  \n261  Користувач ОС Linux, SQL, JavaScript, Python, ...  26    05  2025  \n262  Python, Активність, Програмування, Креативніст...  26    05  2025  \n263                Комунікабельність, Відповідальність  23    05  2025  \n264                  SQL, Git, Python, Django, FastAPI   9    05  2025  \n\n[265 rows x 11 columns]",
      "text/html": "<div>\n<style scoped>\n    .dataframe tbody tr th:only-of-type {\n        vertical-align: middle;\n    }\n\n    .dataframe tbody tr th {\n        vertical-align: top;\n    }\n\n    .dataframe thead th {\n        text-align: right;\n    }\n</style>\n<table border=\"1\" class=\"dataframe\">\n  <thead>\n    <tr style=\"text-align: right;\">\n      <th></th>\n      <th>date</th>\n      <th>title</th>\n      <th>company</th>\n      <th>location</th>\n      <th>salary</th>\n      <th>experience</th>\n      <th>link</th>\n      <th>technologies</th>\n      <th>day</th>\n      <th>month</th>\n      <th>year</th>\n    </tr>\n  </thead>\n  <tbody>\n    <tr>\n      <th>0</th>\n      <td>9-05-2025</td>\n      <td>Senior Back End-oriented Full-Stack Developer ...</td>\n      <td>Adaptiq</td>\n      <td>Київ, віддалено</td>\n      <td>NaN</td>\n      <td>[]</td>\n      <td>https://jobs.dou.ua/companies/adaptiq/vacancie...</td>\n      <td>teamwork, documentation, gcp</td>\n      <td>9</td>\n      <td>05</td>\n      <td>2025</td>\n    </tr>\n    <tr>\n      <th>1</th>\n      <td>23-05-2025</td>\n      <td>TypeScript/Python Developer with AI Experience</td>\n      <td>COXIT</td>\n      <td>Львів, за кордоном, віддалено</td>\n      <td>$4000–6000</td>\n      <td>['3']</td>\n      <td>https://jobs.dou.ua/companies/coxit/vacancies/...</td>\n      <td>openai, scratch, independence, responsibility,...</td>\n      <td>23</td>\n      <td>05</td>\n      <td>2025</td>\n    </tr>\n    <tr>\n      <th>2</th>\n      <td>23-05-2025</td>\n      <td>Senior Python Developer in Virtual Services Te...</td>\n      <td>ZONE3000</td>\n      <td>віддалено</td>\n      <td>NaN</td>\n      <td>['4']</td>\n      <td>https://jobs.dou.ua/companies/zone3000/vacanci...</td>\n      <td>unity, pytest, communication skills, programmi...</td>\n      <td>23</td>\n      <td>05</td>\n      <td>2025</td>\n    </tr>\n    <tr>\n      <th>3</th>\n      <td>21-05-2025</td>\n      <td>Python ML/AI Engineer</td>\n      <td>Itransition</td>\n      <td>Київ, віддалено</td>\n      <td>NaN</td>\n      <td>[]</td>\n      <td>https://jobs.dou.ua/companies/itransition/vaca...</td>\n      <td>openai</td>\n      <td>21</td>\n      <td>05</td>\n      <td>2025</td>\n    </tr>\n    <tr>\n      <th>4</th>\n      <td>14-05-2025</td>\n      <td>Senior Python+NodeJS developer</td>\n      <td>White Label</td>\n      <td>віддалено</td>\n      <td>NaN</td>\n      <td>[]</td>\n      <td>https://jobs.dou.ua/companies/ffflabel/vacanci...</td>\n      <td>reliability</td>\n      <td>14</td>\n      <td>05</td>\n      <td>2025</td>\n    </tr>\n    <tr>\n      <th>...</th>\n      <td>...</td>\n      <td>...</td>\n      <td>...</td>\n      <td>...</td>\n      <td>...</td>\n      <td>...</td>\n      <td>...</td>\n      <td>...</td>\n      <td>...</td>\n      <td>...</td>\n      <td>...</td>\n    </tr>\n    <tr>\n      <th>260</th>\n      <td>20-05-2025</td>\n      <td>TraineePythonDeveloper</td>\n      <td>Jewios Tech</td>\n      <td>Київ</td>\n      <td>28 000 грн</td>\n      <td>[]</td>\n      <td>https://www.work.ua/jobs/6547663/</td>\n      <td>NaN</td>\n      <td>20</td>\n      <td>05</td>\n      <td>2025</td>\n    </tr>\n    <tr>\n      <th>261</th>\n      <td>26-05-2025</td>\n      <td>PythonDeveloper (Backend)</td>\n      <td>Asap Demo LLC</td>\n      <td>Київ</td>\n      <td>NaN</td>\n      <td>['1']</td>\n      <td>https://www.work.ua/jobs/6628531/</td>\n      <td>Користувач ОС Linux, SQL, JavaScript, Python, ...</td>\n      <td>26</td>\n      <td>05</td>\n      <td>2025</td>\n    </tr>\n    <tr>\n      <th>262</th>\n      <td>26-05-2025</td>\n      <td>Викладач програмування у дитячу школу (Python,...</td>\n      <td>Logika, всеукраїнська школа програмування для ...</td>\n      <td>Коломия</td>\n      <td>8 000 – 17 000 грн</td>\n      <td>[]</td>\n      <td>https://www.work.ua/jobs/5623410/</td>\n      <td>Python, Активність, Програмування, Креативніст...</td>\n      <td>26</td>\n      <td>05</td>\n      <td>2025</td>\n    </tr>\n    <tr>\n      <th>263</th>\n      <td>23-05-2025</td>\n      <td>PythonBack-end Web Developer</td>\n      <td>PBP Agency</td>\n      <td>Дистанційна робота</td>\n      <td>NaN</td>\n      <td>['5']</td>\n      <td>https://www.work.ua/jobs/6676327/</td>\n      <td>Комунікабельність, Відповідальність</td>\n      <td>23</td>\n      <td>05</td>\n      <td>2025</td>\n    </tr>\n    <tr>\n      <th>264</th>\n      <td>9-05-2025</td>\n      <td>JuniorPythonDeveloper</td>\n      <td>Julion IT</td>\n      <td>Київ, вулиця Ділова, 9А.</td>\n      <td>30 000 – 40 000 грн</td>\n      <td>[]</td>\n      <td>https://www.work.ua/jobs/6620947/</td>\n      <td>SQL, Git, Python, Django, FastAPI</td>\n      <td>9</td>\n      <td>05</td>\n      <td>2025</td>\n    </tr>\n  </tbody>\n</table>\n<p>265 rows × 11 columns</p>\n</div>"
     },
     "execution_count": 8,
     "metadata": {},
     "output_type": "execute_result"
    }
   ],
   "source": [
    "month_map = {\n",
    "        'січня': '01', 'лютого': '02', 'березня': '03',\n",
    "        'квітня': '04', 'травня': '05', 'червня': '06',\n",
    "        'липня': '07', 'серпня': '08', 'вересня': '09',\n",
    "        'жовтня': '10', 'листопада': '11', 'грудня': '12'\n",
    "    }\n",
    "\n",
    "split_date = python_df[\"date\"].str.split(\" \", expand=True)\n",
    "\n",
    "python_df[\"day\"] = split_date[0]\n",
    "python_df[\"month\"] = split_date[1].map(month_map)\n",
    "python_df[\"year\"] =  split_date[2]\n",
    "\n",
    "python_df[\"date\"] = python_df[\"day\"] + \"-\" + python_df[\"month\"] + \"-\" + python_df[\"year\"]\n",
    "python_df"
   ],
   "metadata": {
    "collapsed": false,
    "ExecuteTime": {
     "end_time": "2025-05-28T12:23:09.504650Z",
     "start_time": "2025-05-28T12:23:09.451638Z"
    }
   },
   "id": "cddbb20b746ae7f2",
   "execution_count": 8
  },
  {
   "cell_type": "code",
   "outputs": [
    {
     "data": {
      "text/plain": "0   2025-05-09\n1   2025-05-23\n2   2025-05-23\n3   2025-05-21\n4   2025-05-14\nName: date, dtype: datetime64[ns]"
     },
     "execution_count": 9,
     "metadata": {},
     "output_type": "execute_result"
    }
   ],
   "source": [
    "pd.to_datetime(python_df[\"date\"], dayfirst=True).head()"
   ],
   "metadata": {
    "collapsed": false,
    "ExecuteTime": {
     "end_time": "2025-05-28T12:23:13.187827Z",
     "start_time": "2025-05-28T12:23:13.161485Z"
    }
   },
   "id": "203cc71e81a56c87",
   "execution_count": 9
  },
  {
   "cell_type": "code",
   "outputs": [],
   "source": [
    "python_df[\"date\"] = pd.to_datetime(python_df[\"date\"], format=\"%d-%m-%Y\")\n",
    "python_df.drop(columns=[\"day\", \"month\", \"year\"], inplace=True)"
   ],
   "metadata": {
    "collapsed": false,
    "ExecuteTime": {
     "end_time": "2025-05-28T12:23:18.172515Z",
     "start_time": "2025-05-28T12:23:18.160494Z"
    }
   },
   "id": "85d81cd2fa81c74c",
   "execution_count": 10
  },
  {
   "cell_type": "code",
   "outputs": [
    {
     "data": {
      "text/plain": "date            datetime64[ns]\ntitle                   object\ncompany                 object\nlocation                object\nsalary                  object\nexperience              object\nlink                    object\ntechnologies            object\ndtype: object"
     },
     "execution_count": 11,
     "metadata": {},
     "output_type": "execute_result"
    }
   ],
   "source": [
    "python_df.dtypes"
   ],
   "metadata": {
    "collapsed": false,
    "ExecuteTime": {
     "end_time": "2025-05-28T12:23:21.680588Z",
     "start_time": "2025-05-28T12:23:21.667541Z"
    }
   },
   "id": "f3d1439d8ddd6879",
   "execution_count": 11
  },
  {
   "cell_type": "markdown",
   "source": [
    "Table index by daytime\n",
    "\n"
   ],
   "metadata": {
    "collapsed": false
   },
   "id": "da585526c6fe2c5a"
  },
  {
   "cell_type": "code",
   "outputs": [],
   "source": [
    "python_df.set_index(\"date\", inplace=True)"
   ],
   "metadata": {
    "collapsed": false,
    "ExecuteTime": {
     "end_time": "2025-05-28T12:23:25.935996Z",
     "start_time": "2025-05-28T12:23:25.923412Z"
    }
   },
   "id": "44ed1a7f018e60f8",
   "execution_count": 12
  },
  {
   "cell_type": "code",
   "outputs": [
    {
     "data": {
      "text/plain": "                                                        title  \\\ndate                                                            \n2025-05-09  Senior Back End-oriented Full-Stack Developer ...   \n2025-05-23     TypeScript/Python Developer with AI Experience   \n2025-05-23  Senior Python Developer in Virtual Services Te...   \n2025-05-21                              Python ML/AI Engineer   \n2025-05-14                     Senior Python+NodeJS developer   \n...                                                       ...   \n2025-05-20                             TraineePythonDeveloper   \n2025-05-26                          PythonDeveloper (Backend)   \n2025-05-26  Викладач програмування у дитячу школу (Python,...   \n2025-05-23                       PythonBack-end Web Developer   \n2025-05-09                              JuniorPythonDeveloper   \n\n                                                      company  \\\ndate                                                            \n2025-05-09                                            Adaptiq   \n2025-05-23                                              COXIT   \n2025-05-23                                           ZONE3000   \n2025-05-21                                        Itransition   \n2025-05-14                                        White Label   \n...                                                       ...   \n2025-05-20                                        Jewios Tech   \n2025-05-26                                      Asap Demo LLC   \n2025-05-26  Logika, всеукраїнська школа програмування для ...   \n2025-05-23                                         PBP Agency   \n2025-05-09                                          Julion IT   \n\n                                 location               salary experience  \\\ndate                                                                        \n2025-05-09                Київ, віддалено                  NaN         []   \n2025-05-23  Львів, за кордоном, віддалено           $4000–6000      ['3']   \n2025-05-23                      віддалено                  NaN      ['4']   \n2025-05-21                Київ, віддалено                  NaN         []   \n2025-05-14                      віддалено                  NaN         []   \n...                                   ...                  ...        ...   \n2025-05-20                           Київ           28 000 грн         []   \n2025-05-26                           Київ                  NaN      ['1']   \n2025-05-26                        Коломия   8 000 – 17 000 грн         []   \n2025-05-23             Дистанційна робота                  NaN      ['5']   \n2025-05-09       Київ, вулиця Ділова, 9А.  30 000 – 40 000 грн         []   \n\n                                                         link  \\\ndate                                                            \n2025-05-09  https://jobs.dou.ua/companies/adaptiq/vacancie...   \n2025-05-23  https://jobs.dou.ua/companies/coxit/vacancies/...   \n2025-05-23  https://jobs.dou.ua/companies/zone3000/vacanci...   \n2025-05-21  https://jobs.dou.ua/companies/itransition/vaca...   \n2025-05-14  https://jobs.dou.ua/companies/ffflabel/vacanci...   \n...                                                       ...   \n2025-05-20                  https://www.work.ua/jobs/6547663/   \n2025-05-26                  https://www.work.ua/jobs/6628531/   \n2025-05-26                  https://www.work.ua/jobs/5623410/   \n2025-05-23                  https://www.work.ua/jobs/6676327/   \n2025-05-09                  https://www.work.ua/jobs/6620947/   \n\n                                                 technologies  \ndate                                                           \n2025-05-09                       teamwork, documentation, gcp  \n2025-05-23  openai, scratch, independence, responsibility,...  \n2025-05-23  unity, pytest, communication skills, programmi...  \n2025-05-21                                             openai  \n2025-05-14                                        reliability  \n...                                                       ...  \n2025-05-20                                                NaN  \n2025-05-26  Користувач ОС Linux, SQL, JavaScript, Python, ...  \n2025-05-26  Python, Активність, Програмування, Креативніст...  \n2025-05-23                Комунікабельність, Відповідальність  \n2025-05-09                  SQL, Git, Python, Django, FastAPI  \n\n[265 rows x 7 columns]",
      "text/html": "<div>\n<style scoped>\n    .dataframe tbody tr th:only-of-type {\n        vertical-align: middle;\n    }\n\n    .dataframe tbody tr th {\n        vertical-align: top;\n    }\n\n    .dataframe thead th {\n        text-align: right;\n    }\n</style>\n<table border=\"1\" class=\"dataframe\">\n  <thead>\n    <tr style=\"text-align: right;\">\n      <th></th>\n      <th>title</th>\n      <th>company</th>\n      <th>location</th>\n      <th>salary</th>\n      <th>experience</th>\n      <th>link</th>\n      <th>technologies</th>\n    </tr>\n    <tr>\n      <th>date</th>\n      <th></th>\n      <th></th>\n      <th></th>\n      <th></th>\n      <th></th>\n      <th></th>\n      <th></th>\n    </tr>\n  </thead>\n  <tbody>\n    <tr>\n      <th>2025-05-09</th>\n      <td>Senior Back End-oriented Full-Stack Developer ...</td>\n      <td>Adaptiq</td>\n      <td>Київ, віддалено</td>\n      <td>NaN</td>\n      <td>[]</td>\n      <td>https://jobs.dou.ua/companies/adaptiq/vacancie...</td>\n      <td>teamwork, documentation, gcp</td>\n    </tr>\n    <tr>\n      <th>2025-05-23</th>\n      <td>TypeScript/Python Developer with AI Experience</td>\n      <td>COXIT</td>\n      <td>Львів, за кордоном, віддалено</td>\n      <td>$4000–6000</td>\n      <td>['3']</td>\n      <td>https://jobs.dou.ua/companies/coxit/vacancies/...</td>\n      <td>openai, scratch, independence, responsibility,...</td>\n    </tr>\n    <tr>\n      <th>2025-05-23</th>\n      <td>Senior Python Developer in Virtual Services Te...</td>\n      <td>ZONE3000</td>\n      <td>віддалено</td>\n      <td>NaN</td>\n      <td>['4']</td>\n      <td>https://jobs.dou.ua/companies/zone3000/vacanci...</td>\n      <td>unity, pytest, communication skills, programmi...</td>\n    </tr>\n    <tr>\n      <th>2025-05-21</th>\n      <td>Python ML/AI Engineer</td>\n      <td>Itransition</td>\n      <td>Київ, віддалено</td>\n      <td>NaN</td>\n      <td>[]</td>\n      <td>https://jobs.dou.ua/companies/itransition/vaca...</td>\n      <td>openai</td>\n    </tr>\n    <tr>\n      <th>2025-05-14</th>\n      <td>Senior Python+NodeJS developer</td>\n      <td>White Label</td>\n      <td>віддалено</td>\n      <td>NaN</td>\n      <td>[]</td>\n      <td>https://jobs.dou.ua/companies/ffflabel/vacanci...</td>\n      <td>reliability</td>\n    </tr>\n    <tr>\n      <th>...</th>\n      <td>...</td>\n      <td>...</td>\n      <td>...</td>\n      <td>...</td>\n      <td>...</td>\n      <td>...</td>\n      <td>...</td>\n    </tr>\n    <tr>\n      <th>2025-05-20</th>\n      <td>TraineePythonDeveloper</td>\n      <td>Jewios Tech</td>\n      <td>Київ</td>\n      <td>28 000 грн</td>\n      <td>[]</td>\n      <td>https://www.work.ua/jobs/6547663/</td>\n      <td>NaN</td>\n    </tr>\n    <tr>\n      <th>2025-05-26</th>\n      <td>PythonDeveloper (Backend)</td>\n      <td>Asap Demo LLC</td>\n      <td>Київ</td>\n      <td>NaN</td>\n      <td>['1']</td>\n      <td>https://www.work.ua/jobs/6628531/</td>\n      <td>Користувач ОС Linux, SQL, JavaScript, Python, ...</td>\n    </tr>\n    <tr>\n      <th>2025-05-26</th>\n      <td>Викладач програмування у дитячу школу (Python,...</td>\n      <td>Logika, всеукраїнська школа програмування для ...</td>\n      <td>Коломия</td>\n      <td>8 000 – 17 000 грн</td>\n      <td>[]</td>\n      <td>https://www.work.ua/jobs/5623410/</td>\n      <td>Python, Активність, Програмування, Креативніст...</td>\n    </tr>\n    <tr>\n      <th>2025-05-23</th>\n      <td>PythonBack-end Web Developer</td>\n      <td>PBP Agency</td>\n      <td>Дистанційна робота</td>\n      <td>NaN</td>\n      <td>['5']</td>\n      <td>https://www.work.ua/jobs/6676327/</td>\n      <td>Комунікабельність, Відповідальність</td>\n    </tr>\n    <tr>\n      <th>2025-05-09</th>\n      <td>JuniorPythonDeveloper</td>\n      <td>Julion IT</td>\n      <td>Київ, вулиця Ділова, 9А.</td>\n      <td>30 000 – 40 000 грн</td>\n      <td>[]</td>\n      <td>https://www.work.ua/jobs/6620947/</td>\n      <td>SQL, Git, Python, Django, FastAPI</td>\n    </tr>\n  </tbody>\n</table>\n<p>265 rows × 7 columns</p>\n</div>"
     },
     "execution_count": 13,
     "metadata": {},
     "output_type": "execute_result"
    }
   ],
   "source": [
    "python_df"
   ],
   "metadata": {
    "collapsed": false,
    "ExecuteTime": {
     "end_time": "2025-05-28T12:23:26.930279Z",
     "start_time": "2025-05-28T12:23:26.898905Z"
    }
   },
   "id": "c3c9e06e64a06bd0",
   "execution_count": 13
  },
  {
   "cell_type": "code",
   "outputs": [
    {
     "data": {
      "text/plain": "date\n2025-05-09                    NaN\n2025-05-23             $4000–6000\n2025-05-23                    NaN\n2025-05-21                    NaN\n2025-05-14                    NaN\n                     ...         \n2025-05-20             28 000 грн\n2025-05-26                    NaN\n2025-05-26     8 000 – 17 000 грн\n2025-05-23                    NaN\n2025-05-09    30 000 – 40 000 грн\nName: salary, Length: 265, dtype: object"
     },
     "execution_count": 15,
     "metadata": {},
     "output_type": "execute_result"
    }
   ],
   "source": [
    "python_df[\"salary\"]"
   ],
   "metadata": {
    "collapsed": false,
    "ExecuteTime": {
     "end_time": "2025-05-28T12:25:06.221630Z",
     "start_time": "2025-05-28T12:25:06.203399Z"
    }
   },
   "id": "2fad303c4d4ea914",
   "execution_count": 15
  },
  {
   "cell_type": "markdown",
   "source": [],
   "metadata": {
    "collapsed": false
   },
   "id": "e0f717b03e7c898c"
  },
  {
   "cell_type": "markdown",
   "source": [
    "Converting celery to one unit of currency\n",
    "\n",
    "1. Extract_salary"
   ],
   "metadata": {
    "collapsed": false
   },
   "id": "4f1b0112bbf19cfc"
  },
  {
   "cell_type": "code",
   "outputs": [],
   "source": [
    "import re\n",
    "\n",
    "mask_uah = python_df[\"salary\"].str.contains('грн', na=False)\n",
    "mask_usd = python_df[\"salary\"].str.contains('$', na=False)\n",
    "\n",
    "def extract_numbers(salary_str):\n",
    "    if pd.isna(salary_str):\n",
    "        return None\n",
    "    \n",
    "    numbers = re.findall(r'(\\d[\\d\\s]*)', salary_str.replace('-', '')) \n",
    "    \n",
    "    return [int(num.replace(' ', '')) for num in numbers] if numbers else None"
   ],
   "metadata": {
    "collapsed": false,
    "ExecuteTime": {
     "end_time": "2025-05-28T12:32:15.801621Z",
     "start_time": "2025-05-28T12:32:15.787918Z"
    }
   },
   "id": "f505e63ab0d60ea0",
   "execution_count": 18
  },
  {
   "cell_type": "code",
   "outputs": [
    {
     "data": {
      "text/plain": "date\n2025-05-09               NaN\n2025-05-23               NaN\n2025-05-23               NaN\n2025-05-21               NaN\n2025-05-14               NaN\n                   ...      \n2025-05-20           [28000]\n2025-05-26               NaN\n2025-05-26     [8000, 17000]\n2025-05-23               NaN\n2025-05-09    [30000, 40000]\nName: cleaned_salary, Length: 265, dtype: object"
     },
     "execution_count": 17,
     "metadata": {},
     "output_type": "execute_result"
    }
   ],
   "source": [
    "python_df.loc[mask_uah, 'cleaned_salary'] = python_df.loc[mask_uah, 'salary'].apply(extract_numbers)\n",
    "python_df['cleaned_salary']"
   ],
   "metadata": {
    "collapsed": false,
    "ExecuteTime": {
     "end_time": "2025-05-28T12:25:29.800466Z",
     "start_time": "2025-05-28T12:25:29.769266Z"
    }
   },
   "id": "5ac3bc418a64a156",
   "execution_count": 17
  },
  {
   "cell_type": "code",
   "outputs": [
    {
     "name": "stdout",
     "output_type": "stream",
     "text": [
      "               salary  salary_usd\n",
      "0  6 000 – 15 000 грн          $0\n",
      "1          $3500–5500  $3500–5500\n",
      "2            до $2000    до $2000\n",
      "3            від $800    від $800\n",
      "4         100 000 грн          $1\n",
      "5                None        None\n"
     ]
    }
   ],
   "source": [],
   "metadata": {
    "collapsed": false,
    "ExecuteTime": {
     "end_time": "2025-05-28T12:07:46.677792Z",
     "start_time": "2025-05-28T12:07:46.642963Z"
    }
   },
   "id": "14eaa1644c92d90e",
   "execution_count": 19
  },
  {
   "cell_type": "code",
   "outputs": [],
   "source": [],
   "metadata": {
    "collapsed": false
   },
   "id": "5c902fa9594e1912"
  }
 ],
 "metadata": {
  "kernelspec": {
   "display_name": "Python 3",
   "language": "python",
   "name": "python3"
  },
  "language_info": {
   "codemirror_mode": {
    "name": "ipython",
    "version": 2
   },
   "file_extension": ".py",
   "mimetype": "text/x-python",
   "name": "python",
   "nbconvert_exporter": "python",
   "pygments_lexer": "ipython2",
   "version": "2.7.6"
  }
 },
 "nbformat": 4,
 "nbformat_minor": 5
}
